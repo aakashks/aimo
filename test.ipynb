{
 "cells": [
  {
   "cell_type": "code",
   "execution_count": 5,
   "metadata": {},
   "outputs": [
    {
     "data": {
      "text/plain": [
       "True"
      ]
     },
     "execution_count": 5,
     "metadata": {},
     "output_type": "execute_result"
    }
   ],
   "source": [
    "all(map(lambda x: x.isnumeric(), '800.910901'.split('.')))"
   ]
  },
  {
   "cell_type": "code",
   "execution_count": 2,
   "metadata": {},
   "outputs": [
    {
     "data": {
      "text/plain": [
       "800"
      ]
     },
     "execution_count": 2,
     "metadata": {},
     "output_type": "execute_result"
    }
   ],
   "source": [
    "st = '799.9999999999987'\n",
    "\n",
    "round(float(eval(st)))"
   ]
  },
  {
   "cell_type": "code",
   "execution_count": null,
   "metadata": {},
   "outputs": [],
   "source": [
    "if not str(code_output).isnumeric():\n",
    "                                code_miss_count+=1"
   ]
  },
  {
   "cell_type": "code",
   "execution_count": null,
   "metadata": {},
   "outputs": [],
   "source": [
    "799.9999999999987"
   ]
  },
  {
   "cell_type": "code",
   "execution_count": 2,
   "metadata": {},
   "outputs": [
    {
     "name": "stdout",
     "output_type": "stream",
     "text": [
      "Operation timed out\n"
     ]
    }
   ],
   "source": [
    "import signal\n",
    "import time\n",
    "\n",
    "# Define the timeout handler\n",
    "def timeout_handler(signum, frame):\n",
    "    raise TimeoutError(\"Operation timed out\")\n",
    "\n",
    "# Set the alarm signal with the timeout handler\n",
    "signal.signal(signal.SIGALRM, timeout_handler)\n",
    "\n",
    "def run_with_timeout(timeout_seconds):\n",
    "    try:\n",
    "        # Set an alarm for a number of seconds\n",
    "        signal.alarm(timeout_seconds)\n",
    "        \n",
    "        # Run your code here\n",
    "        # For example:\n",
    "        # result = long_running_function()\n",
    "        time.sleep(100)\n",
    "        # Reset the alarm\n",
    "        signal.alarm(0)\n",
    "        \n",
    "    except Exception as e:\n",
    "        print(e)\n",
    "\n",
    "# Example usage\n",
    "run_with_timeout(5)  # Timeout after 5 seconds"
   ]
  },
  {
   "cell_type": "code",
   "execution_count": null,
   "metadata": {},
   "outputs": [],
   "source": []
  }
 ],
 "metadata": {
  "kernelspec": {
   "display_name": "temp",
   "language": "python",
   "name": "python3"
  },
  "language_info": {
   "codemirror_mode": {
    "name": "ipython",
    "version": 3
   },
   "file_extension": ".py",
   "mimetype": "text/x-python",
   "name": "python",
   "nbconvert_exporter": "python",
   "pygments_lexer": "ipython3",
   "version": "3.10.14"
  }
 },
 "nbformat": 4,
 "nbformat_minor": 2
}
