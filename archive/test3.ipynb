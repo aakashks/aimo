{
 "cells": [
  {
   "cell_type": "markdown",
   "metadata": {},
   "source": [
    "## Forked from https://www.kaggle.com/code/abdurrafae/improved-code-interpretation"
   ]
  },
  {
   "cell_type": "markdown",
   "metadata": {},
   "source": [
    "**Lewis:** the only changes in this notebook are those needed to run the original one with the new Kaggle evaluation API"
   ]
  },
  {
   "cell_type": "markdown",
   "metadata": {
    "execution": {
     "iopub.execute_input": "2024-05-26T18:31:42.486473Z",
     "iopub.status.busy": "2024-05-26T18:31:42.485158Z",
     "iopub.status.idle": "2024-05-26T18:31:42.492539Z",
     "shell.execute_reply": "2024-05-26T18:31:42.49064Z",
     "shell.execute_reply.started": "2024-05-26T18:31:42.486434Z"
    }
   },
   "source": [
    "Forked From  https://kaggle.com/code/xiaoz259/pure-rng/notebook\n",
    "\n",
    "credits:\n",
    "https://www.kaggle.com/code/olyatsimboy/aimo-openmath-mistral-baseline \\\n",
    "https://www.kaggle.com/code/aatiffraz/prompt-prediction-w-mixtral-mistral7b-gemma-llama \\\n",
    "https://www.kaggle.com/code/thedrcat/aimo-mixtral-baseline"
   ]
  },
  {
   "cell_type": "code",
   "execution_count": 1,
   "metadata": {
    "execution": {
     "iopub.execute_input": "2024-06-04T09:56:19.164519Z",
     "iopub.status.busy": "2024-06-04T09:56:19.164108Z",
     "iopub.status.idle": "2024-06-04T09:56:19.172814Z",
     "shell.execute_reply": "2024-06-04T09:56:19.172015Z"
    }
   },
   "outputs": [],
   "source": [
    "import time\n",
    "NOTEBOOK_START_TIME = time.time()\n",
    "\n",
    "PRIVATE = False\n",
    "TRAIN_PATH = 'data/not5.csv'"
   ]
  },
  {
   "cell_type": "code",
   "execution_count": 2,
   "metadata": {
    "execution": {
     "iopub.execute_input": "2024-06-04T09:56:19.177465Z",
     "iopub.status.busy": "2024-06-04T09:56:19.177089Z",
     "iopub.status.idle": "2024-06-04T09:56:19.180858Z",
     "shell.execute_reply": "2024-06-04T09:56:19.180091Z"
    }
   },
   "outputs": [],
   "source": [
    "TOTAL_TOKENS = 1024\n",
    "\n",
    "TIME_LIMIT = 31500 if PRIVATE else 6600 * 2\n",
    "PER_Q_TIME_LIMIT = 640\n",
    "\n",
    "BEST_COUNT_THRESHOLD = 15   # it was set as np.sqrt(jj)\n",
    "\n",
    "TEMP = 0.9\n",
    "TEMP_CODE = 0.9"
   ]
  },
  {
   "cell_type": "code",
   "execution_count": 3,
   "metadata": {
    "execution": {
     "iopub.execute_input": "2024-06-04T09:56:19.185508Z",
     "iopub.status.busy": "2024-06-04T09:56:19.185192Z",
     "iopub.status.idle": "2024-06-04T09:56:19.649482Z",
     "shell.execute_reply": "2024-06-04T09:56:19.648582Z"
    }
   },
   "outputs": [],
   "source": [
    "import pandas as pd\n",
    "if not PRIVATE:\n",
    "    class train_env():\n",
    "        def __init__(self, randomize=False):\n",
    "            self.randomlize = randomize\n",
    "            \n",
    "            self.df = pd.read_csv(TRAIN_PATH)\n",
    "            self.df['ground_truth'] = self.df['answer']\n",
    "            self.df['answer'] = -1\n",
    "            \n",
    "            if self.randomlize:\n",
    "                self.df = self.df.reset_index().sample(frac=1).reset_index(drop=True)\n",
    "            \n",
    "            self.predict_called = True\n",
    "            self.counter = 0\n",
    "            self.len = len(self.df)\n",
    "        \n",
    "        \n",
    "        def iter_test(self):\n",
    "             while self.counter<self.len:\n",
    "                if self.predict_called:\n",
    "                    self.predict_called = False\n",
    "                    yield (self.df.loc[[self.counter]][['id','problem']]),(self.df.loc[[self.counter]][['id','answer']])\n",
    "                else:\n",
    "                    print(\"You must call `predict()` successfully before you can continue with `iter_test()`\")\n",
    "                    yield None \n",
    "                \n",
    "        def predict(self, answer):\n",
    "            self.df.loc[self.counter, ('answer')] = answer['answer'].values[0]\n",
    "            self.predict_called = True\n",
    "            self.counter+=1\n",
    "\n",
    "    env = train_env(randomize=True)\n",
    "    iter_test = env.iter_test()\n",
    "else:\n",
    "    # Set up the evaluation API\n",
    "    import aimo\n",
    "\n",
    "    env = aimo.make_env()\n",
    "    iter_test = env.iter_test()"
   ]
  },
  {
   "cell_type": "markdown",
   "metadata": {},
   "source": [
    "TO-DO\n",
    "\n",
    "Change temperature as the question goes longer\n",
    "Change temperature based on question lenght"
   ]
  },
  {
   "cell_type": "markdown",
   "metadata": {},
   "source": [
    "# Zero-shot MMOS-DeepSeekMath-7B with self-consistency and generated code reasoning evaluation\n",
    "\n",
    "Self-consistency is a modification of the standard greedy decoding in reasoning pipelines via sampling several diverse answers followed by aggregation, e.g., most common answer ([SC-CoT paper](https://arxiv.org/pdf/2203.11171.pdf)).\n",
    "\n",
    "In this kernel, we will consider MMOS-DeepSeekMath-7B RL-tuned backbone; in my experiments, this model produces more consistent code reasoning and the code block execution will allow us to decrease arithmetic hallucinations."
   ]
  },
  {
   "cell_type": "code",
   "execution_count": 4,
   "metadata": {
    "execution": {
     "iopub.execute_input": "2024-06-04T09:56:19.654775Z",
     "iopub.status.busy": "2024-06-04T09:56:19.654488Z",
     "iopub.status.idle": "2024-06-04T09:56:19.658049Z",
     "shell.execute_reply": "2024-06-04T09:56:19.657306Z"
    },
    "papermill": {
     "duration": 18.075198,
     "end_time": "2024-02-29T09:25:25.295954",
     "exception": false,
     "start_time": "2024-02-29T09:25:07.220756",
     "status": "completed"
    },
    "tags": []
   },
   "outputs": [],
   "source": [
    "DEBUG = False\n",
    "# QUANT = False"
   ]
  },
  {
   "cell_type": "code",
   "execution_count": 5,
   "metadata": {},
   "outputs": [],
   "source": [
    "# %%capture\n",
    "# %set_env CONDA_PREFIX=/opt/conda\n",
    "# !pip install -U --no-index /kaggle/input/uv-package-manager/uv-0.2.2-py3-none-manylinux_2_17_x86_64.manylinux2014_x86_64.whl\n",
    "# !uv pip uninstall torch\n",
    "# !uv pip install --no-index --find-links=/kaggle/input/vllm-whl -U vllm /kaggle/input/vllm-t4-fix/grpcio-1.62.2-cp310-cp310-manylinux_2_17_x86_64.manylinux2014_x86_64.whl /kaggle/input/vllm-t4-fix/ray-2.11.0-cp310-cp310-manylinux2014_x86_64.whl"
   ]
  },
  {
   "cell_type": "code",
   "execution_count": 6,
   "metadata": {
    "execution": {
     "iopub.execute_input": "2024-06-04T09:56:19.663075Z",
     "iopub.status.busy": "2024-06-04T09:56:19.662829Z",
     "iopub.status.idle": "2024-06-04T09:56:19.665922Z",
     "shell.execute_reply": "2024-06-04T09:56:19.665242Z"
    }
   },
   "outputs": [],
   "source": [
    "# !pip uninstall torch\n",
    "# !pip install --no-index --find-links=/kaggle/input/vllm-whl -U vllm\n",
    "# !pip install --no-index -U /kaggle/input/vllm-t4-fix/grpcio-1.62.2-cp310-cp310-manylinux_2_17_x86_64.manylinux2014_x86_64.whl\n",
    "# !pip install --no-index -U /kaggle/input/vllm-t4-fix/ray-2.11.0-cp310-cp310-manylinux2014_x86_64.whl --find-links /kaggle/input/vllm-whl"
   ]
  },
  {
   "cell_type": "code",
   "execution_count": 7,
   "metadata": {
    "execution": {
     "iopub.execute_input": "2024-06-04T09:56:19.670656Z",
     "iopub.status.busy": "2024-06-04T09:56:19.670438Z",
     "iopub.status.idle": "2024-06-04T09:56:19.673376Z",
     "shell.execute_reply": "2024-06-04T09:56:19.672706Z"
    }
   },
   "outputs": [],
   "source": [
    "MODEL_NAME = '/scratch/aakash_ks.iitr/models/deepseek/'\n",
    "#MODEL_NAME = 'meta-llama/Meta-Llama-3-8B-Instruct'"
   ]
  },
  {
   "cell_type": "code",
   "execution_count": 8,
   "metadata": {
    "execution": {
     "iopub.execute_input": "2024-06-04T09:56:19.678258Z",
     "iopub.status.busy": "2024-06-04T09:56:19.677984Z",
     "iopub.status.idle": "2024-06-04T09:56:19.681168Z",
     "shell.execute_reply": "2024-06-04T09:56:19.680510Z"
    }
   },
   "outputs": [],
   "source": [
    "stop_words = [\"```output\", \"```python\", \"```\\nOutput\" , \")\\n```\" , \"``````output\"]  # this is only useful for code and not cot\n",
    "#stop_words = [\"```output\", \"```python\", \"```\\nOutput\" , \")\\n```\" , \"``````output\", '\\n\\n', '<|eot_id|>',]"
   ]
  },
  {
   "cell_type": "code",
   "execution_count": 9,
   "metadata": {
    "execution": {
     "iopub.execute_input": "2024-06-04T09:56:19.685711Z",
     "iopub.status.busy": "2024-06-04T09:56:19.685489Z",
     "iopub.status.idle": "2024-06-04T09:56:57.303958Z",
     "shell.execute_reply": "2024-06-04T09:56:57.303403Z"
    }
   },
   "outputs": [
    {
     "name": "stdout",
     "output_type": "stream",
     "text": [
      "WARNING 06-10 19:50:29 config.py:1086] Casting torch.bfloat16 to torch.float16.\n",
      "INFO 06-10 19:50:29 config.py:379] Using fp8 data type to store kv cache. It reduces the GPU memory footprint and boosts the performance. But it may cause slight accuracy drop without scaling factors. FP8_E5M2 (without scaling) is only supported on cuda version greater than 11.8. On ROCm (AMD GPU), FP8_E4M3 is instead supported for common inference criteria.\n"
     ]
    },
    {
     "name": "stderr",
     "output_type": "stream",
     "text": [
      "2024-06-10 19:50:38,931\tINFO worker.py:1749 -- Started a local Ray instance.\n"
     ]
    },
    {
     "name": "stdout",
     "output_type": "stream",
     "text": [
      "INFO 06-10 19:50:40 llm_engine.py:100] Initializing an LLM engine (v0.4.2) with config: model='/scratch/aakash_ks.iitr/models/deepseek/', speculative_config=None, tokenizer='/scratch/aakash_ks.iitr/models/deepseek/', skip_tokenizer_init=False, tokenizer_mode=auto, revision=None, tokenizer_revision=None, trust_remote_code=False, dtype=torch.float16, max_seq_len=1024, download_dir=None, load_format=LoadFormat.AUTO, tensor_parallel_size=2, disable_custom_all_reduce=False, quantization=None, enforce_eager=False, kv_cache_dtype=fp8, quantization_param_path=None, device_config=cuda, decoding_config=DecodingConfig(guided_decoding_backend='outlines'), seed=0, served_model_name=/scratch/aakash_ks.iitr/models/deepseek/)\n"
     ]
    },
    {
     "name": "stderr",
     "output_type": "stream",
     "text": [
      "Special tokens have been added in the vocabulary, make sure the associated word embeddings are fine-tuned or trained.\n"
     ]
    },
    {
     "name": "stdout",
     "output_type": "stream",
     "text": [
      "INFO 06-10 19:50:47 utils.py:660] Found nccl from library /home/aakash_ks.iitr/.config/vllm/nccl/cu11/libnccl.so.2.18.1\n",
      "\u001b[36m(RayWorkerWrapper pid=20564)\u001b[0m INFO 06-10 19:50:47 utils.py:660] Found nccl from library /home/aakash_ks.iitr/.config/vllm/nccl/cu11/libnccl.so.2.18.1\n",
      "INFO 06-10 19:50:51 selector.py:69] Cannot use FlashAttention-2 backend for Volta and Turing GPUs.\n",
      "INFO 06-10 19:50:51 selector.py:32] Using XFormers backend.\n",
      "\u001b[36m(RayWorkerWrapper pid=20564)\u001b[0m INFO 06-10 19:50:51 selector.py:69] Cannot use FlashAttention-2 backend for Volta and Turing GPUs.\n",
      "\u001b[36m(RayWorkerWrapper pid=20564)\u001b[0m INFO 06-10 19:50:51 selector.py:32] Using XFormers backend.\n",
      "INFO 06-10 19:50:56 pynccl_utils.py:43] vLLM is using nccl==2.18.1\n",
      "\u001b[36m(RayWorkerWrapper pid=20564)\u001b[0m INFO 06-10 19:50:56 pynccl_utils.py:43] vLLM is using nccl==2.18.1\n",
      "INFO 06-10 19:50:56 utils.py:132] reading GPU P2P access cache from /home/aakash_ks.iitr/.config/vllm/gpu_p2p_access_cache_for_0,1.json\n",
      "\u001b[36m(RayWorkerWrapper pid=20564)\u001b[0m INFO 06-10 19:50:56 utils.py:132] reading GPU P2P access cache from /home/aakash_ks.iitr/.config/vllm/gpu_p2p_access_cache_for_0,1.json\n",
      "\u001b[36m(RayWorkerWrapper pid=20564)\u001b[0m INFO 06-10 19:51:11 model_runner.py:175] Loading model weights took 6.4663 GB\n",
      "INFO 06-10 19:51:16 model_runner.py:175] Loading model weights took 6.4663 GB\n",
      "INFO 06-10 19:51:18 distributed_gpu_executor.py:45] # GPU blocks: 4219, # CPU blocks: 1092\n",
      "INFO 06-10 19:51:19 model_runner.py:937] Capturing the model for CUDA graphs. This may lead to unexpected consequences if the model is not static. To run the model in eager mode, set 'enforce_eager=True' or use '--enforce-eager' in the CLI.\n",
      "INFO 06-10 19:51:19 model_runner.py:941] CUDA graphs can take additional 1~3 GiB memory per GPU. If you are running out of memory, consider decreasing `gpu_memory_utilization` or enforcing eager mode. You can also reduce the `max_num_seqs` as needed to decrease memory usage.\n",
      "\u001b[36m(RayWorkerWrapper pid=20564)\u001b[0m INFO 06-10 19:51:20 model_runner.py:937] Capturing the model for CUDA graphs. This may lead to unexpected consequences if the model is not static. To run the model in eager mode, set 'enforce_eager=True' or use '--enforce-eager' in the CLI.\n",
      "\u001b[36m(RayWorkerWrapper pid=20564)\u001b[0m INFO 06-10 19:51:20 model_runner.py:941] CUDA graphs can take additional 1~3 GiB memory per GPU. If you are running out of memory, consider decreasing `gpu_memory_utilization` or enforcing eager mode. You can also reduce the `max_num_seqs` as needed to decrease memory usage.\n",
      "INFO 06-10 19:51:20 custom_all_reduce.py:246] Registering 305 cuda graph addresses\n",
      "INFO 06-10 19:51:20 model_runner.py:1017] Graph capturing finished in 1 secs.\n"
     ]
    }
   ],
   "source": [
    "from vllm import LLM, SamplingParams\n",
    "\n",
    "llm = LLM(\n",
    "    model=MODEL_NAME,\n",
    "    dtype=\"half\",\n",
    "    #enforce_eager=True, #to disable CUDA graphs for debugging \n",
    "    gpu_memory_utilization=0.93,  #with enforce eager you can use 0.99; else 0.91\n",
    "    swap_space=2,  #CPU RAM per gpu preferable is 2, default is 4\n",
    "    max_model_len=TOTAL_TOKENS,\n",
    "    kv_cache_dtype=\"fp8\",  #k: fp8_e5m2\n",
    "    tensor_parallel_size=2,\n",
    "    max_num_seqs=15, #default is 256 keep 20 while batching\n",
    "    max_seq_len_to_capture=TOTAL_TOKENS, #k: context\n",
    "    #disable_custom_all_reduce=True, #k: uncomment when using 0.4.3\n",
    ")\n",
    "\n",
    "# if getting CUDA OOM switch to using enforce_eager = True"
   ]
  },
  {
   "cell_type": "code",
   "execution_count": 10,
   "metadata": {
    "execution": {
     "iopub.execute_input": "2024-06-04T09:56:57.307793Z",
     "iopub.status.busy": "2024-06-04T09:56:57.307529Z",
     "iopub.status.idle": "2024-06-04T09:56:57.310165Z",
     "shell.execute_reply": "2024-06-04T09:56:57.309715Z"
    },
    "papermill": {
     "duration": 18.075198,
     "end_time": "2024-02-29T09:25:25.295954",
     "exception": false,
     "start_time": "2024-02-29T09:25:07.220756",
     "status": "completed"
    },
    "tags": []
   },
   "outputs": [],
   "source": [
    "import gc\n",
    "import torch\n",
    "# torch.backends.cuda.enable_mem_efficient_sdp(False)"
   ]
  },
  {
   "cell_type": "code",
   "execution_count": 11,
   "metadata": {
    "execution": {
     "iopub.execute_input": "2024-06-04T09:56:57.314322Z",
     "iopub.status.busy": "2024-06-04T09:56:57.313863Z",
     "iopub.status.idle": "2024-06-04T09:56:57.317229Z",
     "shell.execute_reply": "2024-06-04T09:56:57.316622Z"
    },
    "papermill": {
     "duration": 1.224774,
     "end_time": "2024-02-29T09:36:31.21757",
     "exception": false,
     "start_time": "2024-02-29T09:36:29.992796",
     "status": "completed"
    },
    "tags": []
   },
   "outputs": [
    {
     "name": "stdout",
     "output_type": "stream",
     "text": [
      "\u001b[36m(RayWorkerWrapper pid=20564)\u001b[0m INFO 06-10 19:51:20 custom_all_reduce.py:246] Registering 305 cuda graph addresses\n",
      "\u001b[36m(RayWorkerWrapper pid=20564)\u001b[0m INFO 06-10 19:51:20 model_runner.py:1017] Graph capturing finished in 1 secs.\n"
     ]
    }
   ],
   "source": [
    "import pandas as pd\n",
    "from tqdm import tqdm\n",
    "import math\n",
    "import random"
   ]
  },
  {
   "cell_type": "code",
   "execution_count": 12,
   "metadata": {
    "execution": {
     "iopub.execute_input": "2024-06-04T09:56:57.320847Z",
     "iopub.status.busy": "2024-06-04T09:56:57.320315Z",
     "iopub.status.idle": "2024-06-04T09:56:57.325067Z",
     "shell.execute_reply": "2024-06-04T09:56:57.324477Z"
    }
   },
   "outputs": [],
   "source": [
    "def naive_parse(answer):\n",
    "    out = []\n",
    "    start = False\n",
    "    end = False\n",
    "    for l in reversed(list(answer)):\n",
    "        if l in '0123456789' and not end:\n",
    "            start = True\n",
    "            out.append(l)\n",
    "        else:\n",
    "            if start:\n",
    "                end = True\n",
    "        \n",
    "    out = reversed(out)\n",
    "    return ''.join(out)"
   ]
  },
  {
   "cell_type": "code",
   "execution_count": 45,
   "metadata": {
    "execution": {
     "iopub.execute_input": "2024-06-04T09:56:57.328729Z",
     "iopub.status.busy": "2024-06-04T09:56:57.328440Z",
     "iopub.status.idle": "2024-06-04T09:56:57.340592Z",
     "shell.execute_reply": "2024-06-04T09:56:57.340026Z"
    }
   },
   "outputs": [],
   "source": [
    "import re\n",
    "import sys\n",
    "import subprocess\n",
    "\n",
    "def return_last_print(output, n):\n",
    "    lines = output.strip().split('\\n')\n",
    "    if lines:\n",
    "        return lines[n]\n",
    "    else:\n",
    "        return \"\"\n",
    "\n",
    "def process_code(code, return_shell_output=False):\n",
    "    \n",
    "    def repl(match):\n",
    "        if \"real\" not in match.group():\n",
    "            return \"{}{}\".format(match.group()[:-1], ', real=True)')\n",
    "        else:\n",
    "            return \"{}{}\".format(match.group()[:-1], ')')\n",
    "    code = re.sub(r\"symbols\\([^)]+\\)\", repl, code)\n",
    "\n",
    "    if return_shell_output:\n",
    "        code = code.replace('\\n', '\\n    ')\n",
    "            # Add a try...except block\n",
    "        code = \"\\ntry:\\n    from sympy import *\\n{}\\nexcept Exception as e:\\n    print(e)\\n    print('FAIL')\\n\".format(code)\n",
    "    \n",
    "    if not return_shell_output:\n",
    "        print(code)\n",
    "    with open('code.py', 'w') as fout:\n",
    "        fout.write(code)\n",
    "    \n",
    "    batcmd = 'timeout 7 ' + sys.executable + ' code.py'\n",
    "    try:\n",
    "        shell_output = subprocess.check_output(batcmd, shell=True).decode('utf8')\n",
    "        return_value = return_last_print(shell_output, -1)\n",
    "        print(shell_output)\n",
    "        if return_shell_output:\n",
    "            if return_value=='FAIL':\n",
    "                CODE_STATUS = False\n",
    "                return_value = return_last_print(shell_output, -2)\n",
    "                if \"not defined\" in return_value:\n",
    "                    return_value+='\\nTry checking the formatting and imports'\n",
    "            else:\n",
    "                CODE_STATUS = True\n",
    "            return return_value, CODE_STATUS  \n",
    "        code_output = round(float(eval(return_value))) % 1000\n",
    "    except Exception as e:\n",
    "        print(e,'shell_output')\n",
    "        code_output = -1\n",
    "    \n",
    "    if return_shell_output:\n",
    "        if code_output==-1:\n",
    "            CODE_STATUS = False\n",
    "        else:\n",
    "            CODE_STATUS = True\n",
    "        return code_output, CODE_STATUS  \n",
    "    \n",
    "    \n",
    "    return code_output\n",
    "\n",
    "\n",
    "def process_text_output(output):\n",
    "    result = output    \n",
    "    try:\n",
    "        result_output = re.findall(r'\\\\boxed\\{(\\d+)\\}', result)\n",
    "\n",
    "        print('BOXED', result_output)\n",
    "        if not len(result_output):\n",
    "            result_output = naive_parse(result)\n",
    "        else:\n",
    "            result_output = result_output[-1]\n",
    "\n",
    "        print('BOXED FINAL', result_output)\n",
    "        if not len(result_output):\n",
    "            result_output = -1\n",
    "        \n",
    "        else:\n",
    "            result_output = round(float(eval(result_output))) % 1000\n",
    "    \n",
    "    except Exception as e:\n",
    "        print(e)\n",
    "        print('ERROR PARSING TEXT')\n",
    "        result_output = -1\n",
    "    \n",
    "    return result_output\n"
   ]
  },
  {
   "cell_type": "code",
   "execution_count": 14,
   "metadata": {
    "execution": {
     "iopub.execute_input": "2024-06-04T09:56:57.498041Z",
     "iopub.status.busy": "2024-06-04T09:56:57.497801Z",
     "iopub.status.idle": "2024-06-04T09:56:57.500581Z",
     "shell.execute_reply": "2024-06-04T09:56:57.500171Z"
    }
   },
   "outputs": [],
   "source": [
    "code = \"\"\"Below is a math problem you are to solve (non-negative integer answer!):\n",
    "\\\"{}\\\"\n",
    "To accomplish this, first determine a sympy-based approach for solving the problem by listing each step to take and what functions need to be called in each step. Be clear so even an idiot can follow your instructions, and remember, your final answer should be positive integer, not an algebraic expression!\n",
    "Write the entire script covering all the steps (use comments and document it well) and print the result. After solving the problem, output the final numerical answer within \\\\boxed{}.\n",
    "\n",
    "Approach:\"\"\"\n",
    "\n",
    "\n",
    "cot = \"\"\"Below is a math problem you are to solve (non-negative integer answer!):\n",
    "\\\"{}\\\"\n",
    "Analyze this problem and think step by step to come to a solution with programs. After solving the problem, output the final numerical answer within \\\\boxed{}.\\n\\n\"\"\"\n",
    "\n",
    "promplt_options = [code,cot]"
   ]
  },
  {
   "cell_type": "code",
   "execution_count": 79,
   "metadata": {
    "execution": {
     "iopub.execute_input": "2024-06-04T09:56:57.504347Z",
     "iopub.status.busy": "2024-06-04T09:56:57.504117Z",
     "iopub.status.idle": "2024-06-04T09:56:57.506515Z",
     "shell.execute_reply": "2024-06-04T09:56:57.506079Z"
    }
   },
   "outputs": [],
   "source": [
    "tokenizer = llm.get_tokenizer()\n",
    "tokenizer.pad_token = tokenizer.eos_token"
   ]
  },
  {
   "cell_type": "code",
   "execution_count": 84,
   "metadata": {},
   "outputs": [],
   "source": [
    "model_inputs = tokenizer(['hello world', 'wljkba oahfb kgakslhdfj iugaslfid iuhiuagsdfh', 'wow'], padding=True, truncation=True, return_tensors='pt')"
   ]
  },
  {
   "cell_type": "code",
   "execution_count": 89,
   "metadata": {},
   "outputs": [
    {
     "data": {
      "text/plain": [
       "3"
      ]
     },
     "execution_count": 89,
     "metadata": {},
     "output_type": "execute_result"
    }
   ],
   "source": [
    "len(model_inputs['input_ids'])"
   ]
  },
  {
   "cell_type": "code",
   "execution_count": 90,
   "metadata": {},
   "outputs": [
    {
     "data": {
      "text/plain": [
       "torch.Size([3, 24])"
      ]
     },
     "execution_count": 90,
     "metadata": {},
     "output_type": "execute_result"
    }
   ],
   "source": []
  },
  {
   "cell_type": "code",
   "execution_count": 16,
   "metadata": {
    "_kg_hide-output": true,
    "execution": {
     "iopub.execute_input": "2024-06-04T09:56:57.521165Z",
     "iopub.status.busy": "2024-06-04T09:56:57.520831Z",
     "iopub.status.idle": "2024-06-04T10:11:52.996023Z",
     "shell.execute_reply": "2024-06-04T10:11:52.995487Z"
    },
    "papermill": {
     "duration": 34.259365,
     "end_time": "2024-02-29T09:37:05.548829",
     "exception": false,
     "start_time": "2024-02-29T09:36:31.289464",
     "status": "completed"
    },
    "tags": []
   },
   "outputs": [],
   "source": [
    "import re\n",
    "from collections import defaultdict\n",
    "from collections import Counter\n",
    "\n",
    "from numpy.random import choice\n",
    "import numpy as np\n",
    "from copy import deepcopy\n",
    "\n",
    "tool_instruction = '\\n\\nPlease integrate natural language reasoning with programs to solve the above problem, and put your final numerical answer within \\\\boxed{}.\\nNote that the intermediary calculations may be real numbers, but the final numerical answer would always be an integer.'\n",
    "\n",
    "\n",
    "#tool_instruction = \" The answer should be given as a non-negative modulo 1000.\"\n",
    "#tool_instruction += '\\nPlease integrate natural language reasoning with programs to solve the problem above, and put your final answer within \\\\boxed{}.'\n",
    "\n",
    "temperature = TEMP\n",
    "top_p = 1.0\n",
    "\n",
    "temperature_coding = TEMP_CODE\n",
    "top_p_coding = 1.0\n",
    "\n",
    "   \n",
    "total_results = {}\n",
    "total_answers = {}\n",
    "best_stats = {}\n",
    "total_outputs = {}\n",
    "question_type_counts = {}\n",
    "starting_counts = (2,3)\n"
   ]
  },
  {
   "cell_type": "code",
   "execution_count": 17,
   "metadata": {},
   "outputs": [
    {
     "name": "stdout",
     "output_type": "stream",
     "text": [
      "         id                                            problem\n",
      "0  r02fc4ad  Jenna is at a fair with four friends. They all...\n"
     ]
    }
   ],
   "source": [
    "test, sample = next(iter_test)\n",
    "print(test)"
   ]
  },
  {
   "cell_type": "code",
   "execution_count": 19,
   "metadata": {},
   "outputs": [
    {
     "data": {
      "text/plain": [
       "'Jenna is at a fair with four friends. They all want to ride the roller coaster, but only three people can fit in a car. How many different groups of three can the five of them make?'"
      ]
     },
     "execution_count": 19,
     "metadata": {},
     "output_type": "execute_result"
    }
   ],
   "source": [
    "problem = test['problem'].values[0]\n",
    "problem"
   ]
  },
  {
   "cell_type": "code",
   "execution_count": 22,
   "metadata": {},
   "outputs": [
    {
     "data": {
      "text/plain": [
       "(-1, -1)"
      ]
     },
     "execution_count": 22,
     "metadata": {},
     "output_type": "execute_result"
    }
   ],
   "source": [
    "best, best_count = best_stats.get(0,(-1,-1))\n",
    "best, best_count"
   ]
  },
  {
   "cell_type": "code",
   "execution_count": 23,
   "metadata": {},
   "outputs": [],
   "source": [
    "i = 0\n",
    "\n",
    "outputs = total_outputs.get(i,[])\n",
    "text_answers, code_answers = question_type_counts.get(i,starting_counts)\n",
    "results = total_results.get(i,[])\n",
    "answers = total_answers.get(i,[])"
   ]
  },
  {
   "cell_type": "code",
   "execution_count": 24,
   "metadata": {},
   "outputs": [],
   "source": [
    "cot_prompt = f\"User: {cot.format(problem, '{}')}\"\n",
    "code_prompt = f\"User: {code.format(problem, '{}')}\"\n",
    "\n",
    "prompts = [cot_prompt] * 9 + [code_prompt] * 6\n",
    "current_printed = list(map(len, prompts))\n",
    "\n",
    "input_len2 = deepcopy(current_printed)"
   ]
  },
  {
   "cell_type": "code",
   "execution_count": 25,
   "metadata": {},
   "outputs": [
    {
     "data": {
      "text/plain": [
       "['User: Below is a math problem you are to solve (non-negative integer answer!):\\n\"Jenna is at a fair with four friends. They all want to ride the roller coaster, but only three people can fit in a car. How many different groups of three can the five of them make?\"\\nAnalyze this problem and think step by step to come to a solution with programs. After solving the problem, output the final numerical answer within \\\\boxed{}.\\n\\n',\n",
       " 'User: Below is a math problem you are to solve (non-negative integer answer!):\\n\"Jenna is at a fair with four friends. They all want to ride the roller coaster, but only three people can fit in a car. How many different groups of three can the five of them make?\"\\nAnalyze this problem and think step by step to come to a solution with programs. After solving the problem, output the final numerical answer within \\\\boxed{}.\\n\\n',\n",
       " 'User: Below is a math problem you are to solve (non-negative integer answer!):\\n\"Jenna is at a fair with four friends. They all want to ride the roller coaster, but only three people can fit in a car. How many different groups of three can the five of them make?\"\\nAnalyze this problem and think step by step to come to a solution with programs. After solving the problem, output the final numerical answer within \\\\boxed{}.\\n\\n',\n",
       " 'User: Below is a math problem you are to solve (non-negative integer answer!):\\n\"Jenna is at a fair with four friends. They all want to ride the roller coaster, but only three people can fit in a car. How many different groups of three can the five of them make?\"\\nAnalyze this problem and think step by step to come to a solution with programs. After solving the problem, output the final numerical answer within \\\\boxed{}.\\n\\n',\n",
       " 'User: Below is a math problem you are to solve (non-negative integer answer!):\\n\"Jenna is at a fair with four friends. They all want to ride the roller coaster, but only three people can fit in a car. How many different groups of three can the five of them make?\"\\nAnalyze this problem and think step by step to come to a solution with programs. After solving the problem, output the final numerical answer within \\\\boxed{}.\\n\\n',\n",
       " 'User: Below is a math problem you are to solve (non-negative integer answer!):\\n\"Jenna is at a fair with four friends. They all want to ride the roller coaster, but only three people can fit in a car. How many different groups of three can the five of them make?\"\\nAnalyze this problem and think step by step to come to a solution with programs. After solving the problem, output the final numerical answer within \\\\boxed{}.\\n\\n',\n",
       " 'User: Below is a math problem you are to solve (non-negative integer answer!):\\n\"Jenna is at a fair with four friends. They all want to ride the roller coaster, but only three people can fit in a car. How many different groups of three can the five of them make?\"\\nAnalyze this problem and think step by step to come to a solution with programs. After solving the problem, output the final numerical answer within \\\\boxed{}.\\n\\n',\n",
       " 'User: Below is a math problem you are to solve (non-negative integer answer!):\\n\"Jenna is at a fair with four friends. They all want to ride the roller coaster, but only three people can fit in a car. How many different groups of three can the five of them make?\"\\nAnalyze this problem and think step by step to come to a solution with programs. After solving the problem, output the final numerical answer within \\\\boxed{}.\\n\\n',\n",
       " 'User: Below is a math problem you are to solve (non-negative integer answer!):\\n\"Jenna is at a fair with four friends. They all want to ride the roller coaster, but only three people can fit in a car. How many different groups of three can the five of them make?\"\\nAnalyze this problem and think step by step to come to a solution with programs. After solving the problem, output the final numerical answer within \\\\boxed{}.\\n\\n',\n",
       " 'User: Below is a math problem you are to solve (non-negative integer answer!):\\n\"Jenna is at a fair with four friends. They all want to ride the roller coaster, but only three people can fit in a car. How many different groups of three can the five of them make?\"\\nTo accomplish this, first determine a sympy-based approach for solving the problem by listing each step to take and what functions need to be called in each step. Be clear so even an idiot can follow your instructions, and remember, your final answer should be positive integer, not an algebraic expression!\\nWrite the entire script covering all the steps (use comments and document it well) and print the result. After solving the problem, output the final numerical answer within \\\\boxed{}.\\n\\nApproach:',\n",
       " 'User: Below is a math problem you are to solve (non-negative integer answer!):\\n\"Jenna is at a fair with four friends. They all want to ride the roller coaster, but only three people can fit in a car. How many different groups of three can the five of them make?\"\\nTo accomplish this, first determine a sympy-based approach for solving the problem by listing each step to take and what functions need to be called in each step. Be clear so even an idiot can follow your instructions, and remember, your final answer should be positive integer, not an algebraic expression!\\nWrite the entire script covering all the steps (use comments and document it well) and print the result. After solving the problem, output the final numerical answer within \\\\boxed{}.\\n\\nApproach:',\n",
       " 'User: Below is a math problem you are to solve (non-negative integer answer!):\\n\"Jenna is at a fair with four friends. They all want to ride the roller coaster, but only three people can fit in a car. How many different groups of three can the five of them make?\"\\nTo accomplish this, first determine a sympy-based approach for solving the problem by listing each step to take and what functions need to be called in each step. Be clear so even an idiot can follow your instructions, and remember, your final answer should be positive integer, not an algebraic expression!\\nWrite the entire script covering all the steps (use comments and document it well) and print the result. After solving the problem, output the final numerical answer within \\\\boxed{}.\\n\\nApproach:',\n",
       " 'User: Below is a math problem you are to solve (non-negative integer answer!):\\n\"Jenna is at a fair with four friends. They all want to ride the roller coaster, but only three people can fit in a car. How many different groups of three can the five of them make?\"\\nTo accomplish this, first determine a sympy-based approach for solving the problem by listing each step to take and what functions need to be called in each step. Be clear so even an idiot can follow your instructions, and remember, your final answer should be positive integer, not an algebraic expression!\\nWrite the entire script covering all the steps (use comments and document it well) and print the result. After solving the problem, output the final numerical answer within \\\\boxed{}.\\n\\nApproach:',\n",
       " 'User: Below is a math problem you are to solve (non-negative integer answer!):\\n\"Jenna is at a fair with four friends. They all want to ride the roller coaster, but only three people can fit in a car. How many different groups of three can the five of them make?\"\\nTo accomplish this, first determine a sympy-based approach for solving the problem by listing each step to take and what functions need to be called in each step. Be clear so even an idiot can follow your instructions, and remember, your final answer should be positive integer, not an algebraic expression!\\nWrite the entire script covering all the steps (use comments and document it well) and print the result. After solving the problem, output the final numerical answer within \\\\boxed{}.\\n\\nApproach:',\n",
       " 'User: Below is a math problem you are to solve (non-negative integer answer!):\\n\"Jenna is at a fair with four friends. They all want to ride the roller coaster, but only three people can fit in a car. How many different groups of three can the five of them make?\"\\nTo accomplish this, first determine a sympy-based approach for solving the problem by listing each step to take and what functions need to be called in each step. Be clear so even an idiot can follow your instructions, and remember, your final answer should be positive integer, not an algebraic expression!\\nWrite the entire script covering all the steps (use comments and document it well) and print the result. After solving the problem, output the final numerical answer within \\\\boxed{}.\\n\\nApproach:']"
      ]
     },
     "execution_count": 25,
     "metadata": {},
     "output_type": "execute_result"
    }
   ],
   "source": [
    "prompts"
   ]
  },
  {
   "cell_type": "code",
   "execution_count": 24,
   "metadata": {},
   "outputs": [
    {
     "data": {
      "text/plain": [
       "['hellop', 'ok', 'bye', 'hi']"
      ]
     },
     "execution_count": 24,
     "metadata": {},
     "output_type": "execute_result"
    }
   ],
   "source": [
    "from random import shuffle\n",
    "\n",
    "lst = ['hi', 'hellop', 'ok', 'bye']\n",
    "shuffle(lst)\n",
    "\n",
    "lst"
   ]
  },
  {
   "cell_type": "code",
   "execution_count": 27,
   "metadata": {},
   "outputs": [
    {
     "data": {
      "text/plain": [
       "([423, 423, 423, 423, 423, 423, 423, 423, 423, 764, 764, 764, 764, 764, 764],\n",
       " [423, 423, 423, 423, 423, 423, 423, 423, 423, 764, 764, 764, 764, 764, 764])"
      ]
     },
     "execution_count": 27,
     "metadata": {},
     "output_type": "execute_result"
    }
   ],
   "source": [
    "current_printed, input_len2"
   ]
  },
  {
   "cell_type": "code",
   "execution_count": 28,
   "metadata": {},
   "outputs": [
    {
     "name": "stderr",
     "output_type": "stream",
     "text": [
      "Processed prompts: 100%|██████████| 15/15 [00:04<00:00,  3.13it/s]\n"
     ]
    }
   ],
   "source": [
    "generation_outputs = llm.generate(prompts, SamplingParams(\n",
    "    stop=stop_words, temperature=temperature, max_tokens=TOTAL_TOKENS, top_p=top_p, \n",
    "    include_stop_str_in_output=True))\n",
    "\n",
    "decoded_outputs = [prompt + output.outputs[0].text for prompt, output in zip(prompts, generation_outputs)]"
   ]
  },
  {
   "cell_type": "code",
   "execution_count": 29,
   "metadata": {},
   "outputs": [
    {
     "data": {
      "text/plain": [
       "['User: Below is a math problem you are to solve (non-negative integer answer!):\\n\"Jenna is at a fair with four friends. They all want to ride the roller coaster, but only three people can fit in a car. How many different groups of three can the five of them make?\"\\nAnalyze this problem and think step by step to come to a solution with programs. After solving the problem, output the final numerical answer within \\\\boxed{}.\\n\\nTo solve this problem, we can use the combination formula from combinatorics, which states that the number of ways to choose $k$ items from a set of $n$ items is given by $\\\\binom{n}{k}=\\\\frac{n!}{k!(n-k)!}$, where $n!$ denotes the factorial of $n$ (the product of all positive integers up to $n$).\\n\\nIn this case, we want to choose 3 friends out of 5, so we have $n=5$ and $k=3$. Plugging these values into the combination formula gives us:\\n$$\\\\binom{5}{3}=\\\\frac{5!}{3!(5-3)!}=\\\\frac{5!}{3!2!}=\\\\frac{5\\\\times4}{2\\\\times1}=10.$$\\nSo the five friends can make 10 different groups of three to ride the roller coaster. The answer is: $10$',\n",
       " 'User: Below is a math problem you are to solve (non-negative integer answer!):\\n\"Jenna is at a fair with four friends. They all want to ride the roller coaster, but only three people can fit in a car. How many different groups of three can the five of them make?\"\\nAnalyze this problem and think step by step to come to a solution with programs. After solving the problem, output the final numerical answer within \\\\boxed{}.\\n\\nThis problem involves the concept of combinations in mathematics. A combination is a selection of items without considering the order. The number of combinations of $n$ items taken $k$ at a time is given by the formula $\\\\binom{n}{k} = \\\\frac{n!}{k!(n-k)!}$, where $n!$ denotes the factorial of $n$ (the product of all positive integers up to $n$).\\n\\nIn this case, we have 5 friends (Jenna and her 4 friends) and we want to choose 3 of them to ride the roller coaster together. So we need to calculate $\\\\binom{5}{3}$.\\n\\n```python',\n",
       " 'User: Below is a math problem you are to solve (non-negative integer answer!):\\n\"Jenna is at a fair with four friends. They all want to ride the roller coaster, but only three people can fit in a car. How many different groups of three can the five of them make?\"\\nAnalyze this problem and think step by step to come to a solution with programs. After solving the problem, output the final numerical answer within \\\\boxed{}.\\n\\nThe problem is asking for the number of ways to choose 3 people out of 5 to ride the roller coaster. This is a combination problem, and we can solve it using the formula for combinations: C(n, k) = n! / (k!(n-k)!), where n is the total number of items, k is the number of items to choose, and ! denotes the factorial function.\\n\\nHere\\'s a Python function to calculate the number of combinations:\\n\\n```python',\n",
       " 'User: Below is a math problem you are to solve (non-negative integer answer!):\\n\"Jenna is at a fair with four friends. They all want to ride the roller coaster, but only three people can fit in a car. How many different groups of three can the five of them make?\"\\nAnalyze this problem and think step by step to come to a solution with programs. After solving the problem, output the final numerical answer within \\\\boxed{}.\\n\\nThis is a combination problem. We want to find the number of ways to choose 3 people out of 5. The formula for combinations is:\\n\\n$$ C(n, k) = \\\\frac{n!}{k!(n-k)!} $$\\n\\nwhere `n` is the total number of items, `k` is the number of items to choose, and `!` denotes factorial. In this case, `n = 5` and `k = 3`. So we have:\\n\\n$$ C(5, 3) = \\\\frac{5!}{3!(5-3)!} = \\\\frac{5!}{3!2!} = \\\\frac{5 \\\\times 4}{2} = 10. $$\\n\\nSo there are 10 different groups of three that the five of them can make.\\n\\nHere\\'s a Python function to calculate the number of combinations:\\n\\n```python',\n",
       " 'User: Below is a math problem you are to solve (non-negative integer answer!):\\n\"Jenna is at a fair with four friends. They all want to ride the roller coaster, but only three people can fit in a car. How many different groups of three can the five of them make?\"\\nAnalyze this problem and think step by step to come to a solution with programs. After solving the problem, output the final numerical answer within \\\\boxed{}.\\n\\nThis is a combination problem. We are choosing 3 people out of 5, so the number of groups is given by the binomial coefficient \"5 choose 3\". \\n\\nIn Python, you can calculate this using the `sympy` library:\\n\\n```python',\n",
       " 'User: Below is a math problem you are to solve (non-negative integer answer!):\\n\"Jenna is at a fair with four friends. They all want to ride the roller coaster, but only three people can fit in a car. How many different groups of three can the five of them make?\"\\nAnalyze this problem and think step by step to come to a solution with programs. After solving the problem, output the final numerical answer within \\\\boxed{}.\\n\\nThe problem asks for the number of ways to choose 3 people out of 5 to ride the roller coaster. This is a combination problem, which can be solved using the binomial coefficient formula:\\n\\n\\\\[{n\\\\choose k} = \\\\frac{n!}{k!(n-k)!}\\\\]\\n\\nwhere n is the total number of people (5 in this case) and k is the number of people to choose (3 in this case). The exclamation mark denotes the factorial function.\\n\\nHere is a Python code to calculate the number of combinations:\\n\\n```python',\n",
       " 'User: Below is a math problem you are to solve (non-negative integer answer!):\\n\"Jenna is at a fair with four friends. They all want to ride the roller coaster, but only three people can fit in a car. How many different groups of three can the five of them make?\"\\nAnalyze this problem and think step by step to come to a solution with programs. After solving the problem, output the final numerical answer within \\\\boxed{}.\\n\\nThe problem asks for the number of ways to choose 3 people out of 5. This is a combination problem, because the order in which the people are chosen does not matter. The formula for combinations is:\\n\\n\\\\[{n \\\\choose k} = \\\\frac{n!}{k!(n-k)!}\\\\]\\n\\nwhere $n$ is the total number of items, $k$ is the number of items to choose, and $!$ denotes factorial.\\n\\nLet\\'s calculate the number of combinations for this problem using the formula:\\n\\n```python',\n",
       " 'User: Below is a math problem you are to solve (non-negative integer answer!):\\n\"Jenna is at a fair with four friends. They all want to ride the roller coaster, but only three people can fit in a car. How many different groups of three can the five of them make?\"\\nAnalyze this problem and think step by step to come to a solution with programs. After solving the problem, output the final numerical answer within \\\\boxed{}.\\n\\nThis is a combination problem. The number of ways to choose 3 people out of 5 is given by the combination formula $\\\\binom{n}{k} = \\\\frac{n!}{k!(n-k)!}$, where $n$ is the total number of items, $k$ is the number of items to choose, and $!$ denotes factorial.\\n\\nIn this case, $n = 5$ and $k = 3$. So the number of ways to choose 3 people out of 5 is\\n\\\\[\\\\binom{5}{3} = \\\\frac{5!}{3!(5-3)!} = \\\\frac{5!}{3!2!} = \\\\frac{5 \\\\times 4}{2} = 10.\\\\]\\nTherefore, there are 10 different groups of three that the five of them can make.\\nThe answer is $\\\\boxed{10}$.',\n",
       " 'User: Below is a math problem you are to solve (non-negative integer answer!):\\n\"Jenna is at a fair with four friends. They all want to ride the roller coaster, but only three people can fit in a car. How many different groups of three can the five of them make?\"\\nAnalyze this problem and think step by step to come to a solution with programs. After solving the problem, output the final numerical answer within \\\\boxed{}.\\n\\nThis problem is a combination problem in which we are to find the number of ways to choose 3 people out of 5. The number of combinations of n items taken k at a time is given by the formula:\\n\\\\[C(n, k) = \\\\frac{n!}{k!(n-k)!}\\\\]\\nwhere \\'!\\' denotes the factorial function.\\n\\nIn Python, we can calculate this as follows:\\n\\n```python',\n",
       " 'User: Below is a math problem you are to solve (non-negative integer answer!):\\n\"Jenna is at a fair with four friends. They all want to ride the roller coaster, but only three people can fit in a car. How many different groups of three can the five of them make?\"\\nTo accomplish this, first determine a sympy-based approach for solving the problem by listing each step to take and what functions need to be called in each step. Be clear so even an idiot can follow your instructions, and remember, your final answer should be positive integer, not an algebraic expression!\\nWrite the entire script covering all the steps (use comments and document it well) and print the result. After solving the problem, output the final numerical answer within \\\\boxed{}.\\n\\nApproach:\\nWe are to find the number of ways to choose 3 people out of 5.\\nIn Python, we can use the \"math\" or \"sympy\" libraries to help us calculate this.\\nThe equation to solve is \"5 choose 3\", which can be calculated as $\\\\binom{5}{3}$.\\n\\n```python',\n",
       " 'User: Below is a math problem you are to solve (non-negative integer answer!):\\n\"Jenna is at a fair with four friends. They all want to ride the roller coaster, but only three people can fit in a car. How many different groups of three can the five of them make?\"\\nTo accomplish this, first determine a sympy-based approach for solving the problem by listing each step to take and what functions need to be called in each step. Be clear so even an idiot can follow your instructions, and remember, your final answer should be positive integer, not an algebraic expression!\\nWrite the entire script covering all the steps (use comments and document it well) and print the result. After solving the problem, output the final numerical answer within \\\\boxed{}.\\n\\nApproach:\\nTo solve this problem, we need to find the number of ways to choose 3 people out of 5. This is a combination problem.\\n\\nThe formula for combinations is $C(n, k) = \\\\frac{n!}{k!(n-k)!}$, where $n$ is the total number of items, $k$ is the number of items to choose, and $!$ denotes factorial.\\n\\nIn our case, $n = 5$ (the total number of friends) and $k = 3$ (the number of friends in each roller coaster car).\\n\\nWe can calculate the combination using the following Python code:\\n\\n```python',\n",
       " 'User: Below is a math problem you are to solve (non-negative integer answer!):\\n\"Jenna is at a fair with four friends. They all want to ride the roller coaster, but only three people can fit in a car. How many different groups of three can the five of them make?\"\\nTo accomplish this, first determine a sympy-based approach for solving the problem by listing each step to take and what functions need to be called in each step. Be clear so even an idiot can follow your instructions, and remember, your final answer should be positive integer, not an algebraic expression!\\nWrite the entire script covering all the steps (use comments and document it well) and print the result. After solving the problem, output the final numerical answer within \\\\boxed{}.\\n\\nApproach:\\n1. Import the necessary library in Python: import the `math` library for this problem.\\n2. The problem is asking to find the number of ways to choose 3 people out of 5. This can be calculated using the combination formula: `C(n, k) = n! / (k!(n-k)!)`.\\n3. Calculate this using the formula in Python: `C(5, 3) = math.factorial(5) / (math.factorial(3) * math.factorial(5-3))`.\\n4. Print the result.\\n\\n```python',\n",
       " 'User: Below is a math problem you are to solve (non-negative integer answer!):\\n\"Jenna is at a fair with four friends. They all want to ride the roller coaster, but only three people can fit in a car. How many different groups of three can the five of them make?\"\\nTo accomplish this, first determine a sympy-based approach for solving the problem by listing each step to take and what functions need to be called in each step. Be clear so even an idiot can follow your instructions, and remember, your final answer should be positive integer, not an algebraic expression!\\nWrite the entire script covering all the steps (use comments and document it well) and print the result. After solving the problem, output the final numerical answer within \\\\boxed{}.\\n\\nApproach: To solve this problem, we can use the combination function from the sympy library in Python. The combination function calculates the number of ways to choose r items from a set of n items without considering the order of the items.\\n\\nIn this case, we have 5 people (n = 5) and we want to choose 3 of them (r = 3) to ride the roller coaster together. Therefore, we can use the combination function to calculate the number of different groups of three that can be made.\\n\\nThe combination function is defined as:\\n\\n$$C(n, r) = \\\\frac{n!}{r!(n-r)!}$$\\n\\nwhere n! denotes the factorial of n (the product of all positive integers up to n).\\n\\n```python',\n",
       " 'User: Below is a math problem you are to solve (non-negative integer answer!):\\n\"Jenna is at a fair with four friends. They all want to ride the roller coaster, but only three people can fit in a car. How many different groups of three can the five of them make?\"\\nTo accomplish this, first determine a sympy-based approach for solving the problem by listing each step to take and what functions need to be called in each step. Be clear so even an idiot can follow your instructions, and remember, your final answer should be positive integer, not an algebraic expression!\\nWrite the entire script covering all the steps (use comments and document it well) and print the result. After solving the problem, output the final numerical answer within \\\\boxed{}.\\n\\nApproach:\\nTo find the number of different groups of three that can be made from five people, we use the combination formula from combinatorics. The combination formula is:\\n\\n$$C(n, k) = \\\\frac{n!}{k!(n-k)!},$$\\n\\nwhere $n$ is the total number of items, $k$ is the number of items to choose, and $!$ denotes the factorial function.\\n\\nWe need to find the number of combinations of 5 people taken 3 at a time, which is $C(5, 3)$.\\n\\nUsing the combination formula, we get:\\n$$C(5, 3) = \\\\frac{5!}{3!(5-3)!} = \\\\frac{5!}{3!2!} = \\\\frac{5 \\\\times 4 \\\\times 3 \\\\times 2 \\\\times 1}{(3 \\\\times 2 \\\\times 1) \\\\times (2 \\\\times 1)} = \\\\frac{5 \\\\times 4}{2} = 10.$$\\n\\nSo, the five people can be grouped into 10 different ways of three.\\n\\nNow, we can write the Python code to compute this:\\n\\n```python',\n",
       " 'User: Below is a math problem you are to solve (non-negative integer answer!):\\n\"Jenna is at a fair with four friends. They all want to ride the roller coaster, but only three people can fit in a car. How many different groups of three can the five of them make?\"\\nTo accomplish this, first determine a sympy-based approach for solving the problem by listing each step to take and what functions need to be called in each step. Be clear so even an idiot can follow your instructions, and remember, your final answer should be positive integer, not an algebraic expression!\\nWrite the entire script covering all the steps (use comments and document it well) and print the result. After solving the problem, output the final numerical answer within \\\\boxed{}.\\n\\nApproach: The problem can be solved using the combination formula from combinatorics, which states that the number of ways to choose $k$ items from a set of $n$ items is $\\\\binom{n}{k} = \\\\frac{n!}{k!(n-k)!}$. In this case, we want to find the number of ways to choose 3 people from a group of 5, so we can use the combination formula with $n = 5$ and $k = 3$.\\n\\n```python']"
      ]
     },
     "execution_count": 29,
     "metadata": {},
     "output_type": "execute_result"
    }
   ],
   "source": [
    "decoded_outputs"
   ]
  },
  {
   "cell_type": "code",
   "execution_count": 72,
   "metadata": {},
   "outputs": [
    {
     "data": {
      "text/plain": [
       "[2, 3, 3, 4, 5, 6, 7]"
      ]
     },
     "execution_count": 72,
     "metadata": {},
     "output_type": "execute_result"
    }
   ],
   "source": [
    "l = [1,2,3,3,4,5,6,7]\n",
    "l.pop(0)\n",
    "l"
   ]
  },
  {
   "cell_type": "code",
   "execution_count": 30,
   "metadata": {},
   "outputs": [
    {
     "data": {
      "text/plain": [
       "[1050,\n",
       " 948,\n",
       " 827,\n",
       " 977,\n",
       " 637,\n",
       " 891,\n",
       " 859,\n",
       " 964,\n",
       " 746,\n",
       " 1001,\n",
       " 1247,\n",
       " 1169,\n",
       " 1403,\n",
       " 1519,\n",
       " 1124]"
      ]
     },
     "execution_count": 30,
     "metadata": {},
     "output_type": "execute_result"
    }
   ],
   "source": [
    "for k in range(15):\n",
    "    current_printed[k] += len(decoded_outputs[k][current_printed[k]:])\n",
    "    \n",
    "current_printed  "
   ]
  },
  {
   "cell_type": "code",
   "execution_count": 32,
   "metadata": {},
   "outputs": [
    {
     "name": "stdout",
     "output_type": "stream",
     "text": [
      "[False, True, True, True, True, True, True, False, True, True, True, True, True, True, True]\n"
     ]
    }
   ],
   "source": [
    "stop_word_cond = [False] * 15\n",
    "for stop_word in stop_words:\n",
    "    for k in range(15):\n",
    "        stop_word_cond[k] = stop_word_cond[k] or (decoded_outputs[k][-len(stop_word):]==stop_word)\n",
    "        \n",
    "print(stop_word_cond)"
   ]
  },
  {
   "cell_type": "code",
   "execution_count": 40,
   "metadata": {},
   "outputs": [
    {
     "data": {
      "text/plain": [
       "False"
      ]
     },
     "execution_count": 40,
     "metadata": {},
     "output_type": "execute_result"
    }
   ],
   "source": [
    "any([False, False])"
   ]
  },
  {
   "cell_type": "code",
   "execution_count": 41,
   "metadata": {},
   "outputs": [],
   "source": [
    "new_prompts = [\"\"] * 15\n"
   ]
  },
  {
   "cell_type": "code",
   "execution_count": 49,
   "metadata": {},
   "outputs": [],
   "source": [
    "code_outputs = [-1] * 15\n"
   ]
  },
  {
   "cell_type": "code",
   "execution_count": null,
   "metadata": {},
   "outputs": [],
   "source": [
    "for k in range(15): \n",
    "    \n",
    "    if not stop_word_cond[k]:\n",
    "        continue\n",
    "                   \n",
    "    if (decoded_outputs[k][-len(\"```python\"):]==\"```python\"):\n",
    "        temperature_inner=temperature_coding\n",
    "        top_p_inner = top_p_coding\n",
    "        new_prompts[k] = decoded_outputs[k]\n",
    "    else:\n",
    "        temperature_inner=temperature\n",
    "        top_p_inner = top_p\n",
    "        try:\n",
    "            if (decoded_outputs[k][-len(\"``````output\"):]==\"``````output\"):\n",
    "                code_text = decoded_outputs[k].split('```python')[-1].split(\"``````\")[0]\n",
    "            else:\n",
    "                code_text = decoded_outputs[k].split('```python')[-1].split(\"```\")[0]\n",
    "            \n",
    "            code_output, CODE_STATUS = process_code(code_text, return_shell_output=True)\n",
    "            print('CODE RESULTS', code_output)\n",
    "            \n",
    "            if not CODE_STATUS:\n",
    "                continue\n",
    "                \n",
    "        except Exception as e:\n",
    "            print(e)\n",
    "            print('ERROR PARSING CODE')\n",
    "            code_output = -1\n",
    "            \n",
    "        if code_output!=-1:\n",
    "            if (decoded_outputs[k][-len(\")\\n```\"):]==\")\\n```\"):\n",
    "                new_prompts[k] = decoded_outputs[k]+'```output\\n'+str(code_output)+'\\n```\\n'\n",
    "            else:\n",
    "                new_prompts[k] = decoded_outputs[k]+'\\n'+str(code_output)+'\\n```\\n'\n",
    "\n",
    "        else:\n",
    "            continue\n",
    "        \n",
    "        code_outputs[k] = code_output"
   ]
  },
  {
   "cell_type": "code",
   "execution_count": 50,
   "metadata": {},
   "outputs": [
    {
     "data": {
      "text/plain": [
       "['',\n",
       " 'User: Below is a math problem you are to solve (non-negative integer answer!):\\n\"Jenna is at a fair with four friends. They all want to ride the roller coaster, but only three people can fit in a car. How many different groups of three can the five of them make?\"\\nAnalyze this problem and think step by step to come to a solution with programs. After solving the problem, output the final numerical answer within \\\\boxed{}.\\n\\nThis problem involves the concept of combinations in mathematics. A combination is a selection of items without considering the order. The number of combinations of $n$ items taken $k$ at a time is given by the formula $\\\\binom{n}{k} = \\\\frac{n!}{k!(n-k)!}$, where $n!$ denotes the factorial of $n$ (the product of all positive integers up to $n$).\\n\\nIn this case, we have 5 friends (Jenna and her 4 friends) and we want to choose 3 of them to ride the roller coaster together. So we need to calculate $\\\\binom{5}{3}$.\\n\\n```python',\n",
       " 'User: Below is a math problem you are to solve (non-negative integer answer!):\\n\"Jenna is at a fair with four friends. They all want to ride the roller coaster, but only three people can fit in a car. How many different groups of three can the five of them make?\"\\nAnalyze this problem and think step by step to come to a solution with programs. After solving the problem, output the final numerical answer within \\\\boxed{}.\\n\\nThe problem is asking for the number of ways to choose 3 people out of 5 to ride the roller coaster. This is a combination problem, and we can solve it using the formula for combinations: C(n, k) = n! / (k!(n-k)!), where n is the total number of items, k is the number of items to choose, and ! denotes the factorial function.\\n\\nHere\\'s a Python function to calculate the number of combinations:\\n\\n```python',\n",
       " 'User: Below is a math problem you are to solve (non-negative integer answer!):\\n\"Jenna is at a fair with four friends. They all want to ride the roller coaster, but only three people can fit in a car. How many different groups of three can the five of them make?\"\\nAnalyze this problem and think step by step to come to a solution with programs. After solving the problem, output the final numerical answer within \\\\boxed{}.\\n\\nThis is a combination problem. We want to find the number of ways to choose 3 people out of 5. The formula for combinations is:\\n\\n$$ C(n, k) = \\\\frac{n!}{k!(n-k)!} $$\\n\\nwhere `n` is the total number of items, `k` is the number of items to choose, and `!` denotes factorial. In this case, `n = 5` and `k = 3`. So we have:\\n\\n$$ C(5, 3) = \\\\frac{5!}{3!(5-3)!} = \\\\frac{5!}{3!2!} = \\\\frac{5 \\\\times 4}{2} = 10. $$\\n\\nSo there are 10 different groups of three that the five of them can make.\\n\\nHere\\'s a Python function to calculate the number of combinations:\\n\\n```python',\n",
       " 'User: Below is a math problem you are to solve (non-negative integer answer!):\\n\"Jenna is at a fair with four friends. They all want to ride the roller coaster, but only three people can fit in a car. How many different groups of three can the five of them make?\"\\nAnalyze this problem and think step by step to come to a solution with programs. After solving the problem, output the final numerical answer within \\\\boxed{}.\\n\\nThis is a combination problem. We are choosing 3 people out of 5, so the number of groups is given by the binomial coefficient \"5 choose 3\". \\n\\nIn Python, you can calculate this using the `sympy` library:\\n\\n```python',\n",
       " 'User: Below is a math problem you are to solve (non-negative integer answer!):\\n\"Jenna is at a fair with four friends. They all want to ride the roller coaster, but only three people can fit in a car. How many different groups of three can the five of them make?\"\\nAnalyze this problem and think step by step to come to a solution with programs. After solving the problem, output the final numerical answer within \\\\boxed{}.\\n\\nThe problem asks for the number of ways to choose 3 people out of 5 to ride the roller coaster. This is a combination problem, which can be solved using the binomial coefficient formula:\\n\\n\\\\[{n\\\\choose k} = \\\\frac{n!}{k!(n-k)!}\\\\]\\n\\nwhere n is the total number of people (5 in this case) and k is the number of people to choose (3 in this case). The exclamation mark denotes the factorial function.\\n\\nHere is a Python code to calculate the number of combinations:\\n\\n```python',\n",
       " 'User: Below is a math problem you are to solve (non-negative integer answer!):\\n\"Jenna is at a fair with four friends. They all want to ride the roller coaster, but only three people can fit in a car. How many different groups of three can the five of them make?\"\\nAnalyze this problem and think step by step to come to a solution with programs. After solving the problem, output the final numerical answer within \\\\boxed{}.\\n\\nThe problem asks for the number of ways to choose 3 people out of 5. This is a combination problem, because the order in which the people are chosen does not matter. The formula for combinations is:\\n\\n\\\\[{n \\\\choose k} = \\\\frac{n!}{k!(n-k)!}\\\\]\\n\\nwhere $n$ is the total number of items, $k$ is the number of items to choose, and $!$ denotes factorial.\\n\\nLet\\'s calculate the number of combinations for this problem using the formula:\\n\\n```python',\n",
       " '',\n",
       " 'User: Below is a math problem you are to solve (non-negative integer answer!):\\n\"Jenna is at a fair with four friends. They all want to ride the roller coaster, but only three people can fit in a car. How many different groups of three can the five of them make?\"\\nAnalyze this problem and think step by step to come to a solution with programs. After solving the problem, output the final numerical answer within \\\\boxed{}.\\n\\nThis problem is a combination problem in which we are to find the number of ways to choose 3 people out of 5. The number of combinations of n items taken k at a time is given by the formula:\\n\\\\[C(n, k) = \\\\frac{n!}{k!(n-k)!}\\\\]\\nwhere \\'!\\' denotes the factorial function.\\n\\nIn Python, we can calculate this as follows:\\n\\n```python',\n",
       " 'User: Below is a math problem you are to solve (non-negative integer answer!):\\n\"Jenna is at a fair with four friends. They all want to ride the roller coaster, but only three people can fit in a car. How many different groups of three can the five of them make?\"\\nTo accomplish this, first determine a sympy-based approach for solving the problem by listing each step to take and what functions need to be called in each step. Be clear so even an idiot can follow your instructions, and remember, your final answer should be positive integer, not an algebraic expression!\\nWrite the entire script covering all the steps (use comments and document it well) and print the result. After solving the problem, output the final numerical answer within \\\\boxed{}.\\n\\nApproach:\\nWe are to find the number of ways to choose 3 people out of 5.\\nIn Python, we can use the \"math\" or \"sympy\" libraries to help us calculate this.\\nThe equation to solve is \"5 choose 3\", which can be calculated as $\\\\binom{5}{3}$.\\n\\n```python',\n",
       " 'User: Below is a math problem you are to solve (non-negative integer answer!):\\n\"Jenna is at a fair with four friends. They all want to ride the roller coaster, but only three people can fit in a car. How many different groups of three can the five of them make?\"\\nTo accomplish this, first determine a sympy-based approach for solving the problem by listing each step to take and what functions need to be called in each step. Be clear so even an idiot can follow your instructions, and remember, your final answer should be positive integer, not an algebraic expression!\\nWrite the entire script covering all the steps (use comments and document it well) and print the result. After solving the problem, output the final numerical answer within \\\\boxed{}.\\n\\nApproach:\\nTo solve this problem, we need to find the number of ways to choose 3 people out of 5. This is a combination problem.\\n\\nThe formula for combinations is $C(n, k) = \\\\frac{n!}{k!(n-k)!}$, where $n$ is the total number of items, $k$ is the number of items to choose, and $!$ denotes factorial.\\n\\nIn our case, $n = 5$ (the total number of friends) and $k = 3$ (the number of friends in each roller coaster car).\\n\\nWe can calculate the combination using the following Python code:\\n\\n```python',\n",
       " 'User: Below is a math problem you are to solve (non-negative integer answer!):\\n\"Jenna is at a fair with four friends. They all want to ride the roller coaster, but only three people can fit in a car. How many different groups of three can the five of them make?\"\\nTo accomplish this, first determine a sympy-based approach for solving the problem by listing each step to take and what functions need to be called in each step. Be clear so even an idiot can follow your instructions, and remember, your final answer should be positive integer, not an algebraic expression!\\nWrite the entire script covering all the steps (use comments and document it well) and print the result. After solving the problem, output the final numerical answer within \\\\boxed{}.\\n\\nApproach:\\n1. Import the necessary library in Python: import the `math` library for this problem.\\n2. The problem is asking to find the number of ways to choose 3 people out of 5. This can be calculated using the combination formula: `C(n, k) = n! / (k!(n-k)!)`.\\n3. Calculate this using the formula in Python: `C(5, 3) = math.factorial(5) / (math.factorial(3) * math.factorial(5-3))`.\\n4. Print the result.\\n\\n```python',\n",
       " 'User: Below is a math problem you are to solve (non-negative integer answer!):\\n\"Jenna is at a fair with four friends. They all want to ride the roller coaster, but only three people can fit in a car. How many different groups of three can the five of them make?\"\\nTo accomplish this, first determine a sympy-based approach for solving the problem by listing each step to take and what functions need to be called in each step. Be clear so even an idiot can follow your instructions, and remember, your final answer should be positive integer, not an algebraic expression!\\nWrite the entire script covering all the steps (use comments and document it well) and print the result. After solving the problem, output the final numerical answer within \\\\boxed{}.\\n\\nApproach: To solve this problem, we can use the combination function from the sympy library in Python. The combination function calculates the number of ways to choose r items from a set of n items without considering the order of the items.\\n\\nIn this case, we have 5 people (n = 5) and we want to choose 3 of them (r = 3) to ride the roller coaster together. Therefore, we can use the combination function to calculate the number of different groups of three that can be made.\\n\\nThe combination function is defined as:\\n\\n$$C(n, r) = \\\\frac{n!}{r!(n-r)!}$$\\n\\nwhere n! denotes the factorial of n (the product of all positive integers up to n).\\n\\n```python',\n",
       " 'User: Below is a math problem you are to solve (non-negative integer answer!):\\n\"Jenna is at a fair with four friends. They all want to ride the roller coaster, but only three people can fit in a car. How many different groups of three can the five of them make?\"\\nTo accomplish this, first determine a sympy-based approach for solving the problem by listing each step to take and what functions need to be called in each step. Be clear so even an idiot can follow your instructions, and remember, your final answer should be positive integer, not an algebraic expression!\\nWrite the entire script covering all the steps (use comments and document it well) and print the result. After solving the problem, output the final numerical answer within \\\\boxed{}.\\n\\nApproach:\\nTo find the number of different groups of three that can be made from five people, we use the combination formula from combinatorics. The combination formula is:\\n\\n$$C(n, k) = \\\\frac{n!}{k!(n-k)!},$$\\n\\nwhere $n$ is the total number of items, $k$ is the number of items to choose, and $!$ denotes the factorial function.\\n\\nWe need to find the number of combinations of 5 people taken 3 at a time, which is $C(5, 3)$.\\n\\nUsing the combination formula, we get:\\n$$C(5, 3) = \\\\frac{5!}{3!(5-3)!} = \\\\frac{5!}{3!2!} = \\\\frac{5 \\\\times 4 \\\\times 3 \\\\times 2 \\\\times 1}{(3 \\\\times 2 \\\\times 1) \\\\times (2 \\\\times 1)} = \\\\frac{5 \\\\times 4}{2} = 10.$$\\n\\nSo, the five people can be grouped into 10 different ways of three.\\n\\nNow, we can write the Python code to compute this:\\n\\n```python',\n",
       " 'User: Below is a math problem you are to solve (non-negative integer answer!):\\n\"Jenna is at a fair with four friends. They all want to ride the roller coaster, but only three people can fit in a car. How many different groups of three can the five of them make?\"\\nTo accomplish this, first determine a sympy-based approach for solving the problem by listing each step to take and what functions need to be called in each step. Be clear so even an idiot can follow your instructions, and remember, your final answer should be positive integer, not an algebraic expression!\\nWrite the entire script covering all the steps (use comments and document it well) and print the result. After solving the problem, output the final numerical answer within \\\\boxed{}.\\n\\nApproach: The problem can be solved using the combination formula from combinatorics, which states that the number of ways to choose $k$ items from a set of $n$ items is $\\\\binom{n}{k} = \\\\frac{n!}{k!(n-k)!}$. In this case, we want to find the number of ways to choose 3 people from a group of 5, so we can use the combination formula with $n = 5$ and $k = 3$.\\n\\n```python']"
      ]
     },
     "execution_count": 50,
     "metadata": {},
     "output_type": "execute_result"
    }
   ],
   "source": [
    "new_prompts"
   ]
  },
  {
   "cell_type": "code",
   "execution_count": 51,
   "metadata": {},
   "outputs": [
    {
     "data": {
      "text/plain": [
       "[-1, -1, -1, -1, -1, -1, -1, -1, -1, -1, -1, -1, -1, -1, -1]"
      ]
     },
     "execution_count": 51,
     "metadata": {},
     "output_type": "execute_result"
    }
   ],
   "source": [
    "code_outputs"
   ]
  },
  {
   "cell_type": "code",
   "execution_count": 57,
   "metadata": {},
   "outputs": [
    {
     "name": "stderr",
     "output_type": "stream",
     "text": [
      "Processed prompts: 100%|██████████| 13/13 [00:02<00:00,  4.77it/s]\n"
     ]
    }
   ],
   "source": [
    "new_prompts = [prompt for prompt in new_prompts if prompt]\n",
    "\n",
    "generation_output = llm.generate(new_prompts, SamplingParams(\n",
    "    stop=stop_words, temperature=temperature_inner, max_tokens=TOTAL_TOKENS, top_p=top_p_inner,\n",
    "    include_stop_str_in_output=True))\n",
    "\n",
    "decoded_outputs = [prompt + output.outputs[0].text for prompt, output in zip(new_prompts, generation_output)]"
   ]
  },
  {
   "cell_type": "code",
   "execution_count": 58,
   "metadata": {},
   "outputs": [
    {
     "data": {
      "text/plain": [
       "['User: Below is a math problem you are to solve (non-negative integer answer!):\\n\"Jenna is at a fair with four friends. They all want to ride the roller coaster, but only three people can fit in a car. How many different groups of three can the five of them make?\"\\nAnalyze this problem and think step by step to come to a solution with programs. After solving the problem, output the final numerical answer within \\\\boxed{}.\\n\\nThis problem involves the concept of combinations in mathematics. A combination is a selection of items without considering the order. The number of combinations of $n$ items taken $k$ at a time is given by the formula $\\\\binom{n}{k} = \\\\frac{n!}{k!(n-k)!}$, where $n!$ denotes the factorial of $n$ (the product of all positive integers up to $n$).\\n\\nIn this case, we have 5 friends (Jenna and her 4 friends) and we want to choose 3 of them to ride the roller coaster together. So we need to calculate $\\\\binom{5}{3}$.\\n\\n```python\\nfrom math import factorial\\n\\ndef calculate_combinations():\\n    n = 5\\n    k = 3\\n\\n    combinations = factorial(n) / (factorial(k) * factorial(n - k))\\n    return combinations\\n\\nresult = calculate_combinations()\\nprint(result)\\n```',\n",
       " 'User: Below is a math problem you are to solve (non-negative integer answer!):\\n\"Jenna is at a fair with four friends. They all want to ride the roller coaster, but only three people can fit in a car. How many different groups of three can the five of them make?\"\\nAnalyze this problem and think step by step to come to a solution with programs. After solving the problem, output the final numerical answer within \\\\boxed{}.\\n\\nThe problem is asking for the number of ways to choose 3 people out of 5 to ride the roller coaster. This is a combination problem, and we can solve it using the formula for combinations: C(n, k) = n! / (k!(n-k)!), where n is the total number of items, k is the number of items to choose, and ! denotes the factorial function.\\n\\nHere\\'s a Python function to calculate the number of combinations:\\n\\n```python\\nfrom math import factorial\\n\\ndef combinations(n, k):\\n    return factorial(n) / (factorial(k) * factorial(n - k))\\n\\nresult = combinations(5, 3)\\nprint(result)\\n```',\n",
       " 'User: Below is a math problem you are to solve (non-negative integer answer!):\\n\"Jenna is at a fair with four friends. They all want to ride the roller coaster, but only three people can fit in a car. How many different groups of three can the five of them make?\"\\nAnalyze this problem and think step by step to come to a solution with programs. After solving the problem, output the final numerical answer within \\\\boxed{}.\\n\\nThis is a combination problem. We want to find the number of ways to choose 3 people out of 5. The formula for combinations is:\\n\\n$$ C(n, k) = \\\\frac{n!}{k!(n-k)!} $$\\n\\nwhere `n` is the total number of items, `k` is the number of items to choose, and `!` denotes factorial. In this case, `n = 5` and `k = 3`. So we have:\\n\\n$$ C(5, 3) = \\\\frac{5!}{3!(5-3)!} = \\\\frac{5!}{3!2!} = \\\\frac{5 \\\\times 4}{2} = 10. $$\\n\\nSo there are 10 different groups of three that the five of them can make.\\n\\nHere\\'s a Python function to calculate the number of combinations:\\n\\n```python\\nfrom math import factorial\\n\\ndef combinations(n, k):\\n    return factorial(n) / (factorial(k) * factorial(n - k))\\n\\nresult = combinations(5, 3)\\nprint(result)\\n```',\n",
       " 'User: Below is a math problem you are to solve (non-negative integer answer!):\\n\"Jenna is at a fair with four friends. They all want to ride the roller coaster, but only three people can fit in a car. How many different groups of three can the five of them make?\"\\nAnalyze this problem and think step by step to come to a solution with programs. After solving the problem, output the final numerical answer within \\\\boxed{}.\\n\\nThis is a combination problem. We are choosing 3 people out of 5, so the number of groups is given by the binomial coefficient \"5 choose 3\". \\n\\nIn Python, you can calculate this using the `sympy` library:\\n\\n```python\\nfrom sympy import binomial\\n\\ndef number_of_groups():\\n    total_people = 5\\n    group_size = 3\\n    num_groups = binomial(total_people, group_size)\\n    return num_groups\\n\\nresult = number_of_groups()\\nprint(result)\\n```',\n",
       " 'User: Below is a math problem you are to solve (non-negative integer answer!):\\n\"Jenna is at a fair with four friends. They all want to ride the roller coaster, but only three people can fit in a car. How many different groups of three can the five of them make?\"\\nAnalyze this problem and think step by step to come to a solution with programs. After solving the problem, output the final numerical answer within \\\\boxed{}.\\n\\nThe problem asks for the number of ways to choose 3 people out of 5 to ride the roller coaster. This is a combination problem, which can be solved using the binomial coefficient formula:\\n\\n\\\\[{n\\\\choose k} = \\\\frac{n!}{k!(n-k)!}\\\\]\\n\\nwhere n is the total number of people (5 in this case) and k is the number of people to choose (3 in this case). The exclamation mark denotes the factorial function.\\n\\nHere is a Python code to calculate the number of combinations:\\n\\n```python\\nfrom math import factorial\\n\\ndef combinations(n, k):\\n    return factorial(n) / (factorial(k) * factorial(n - k))\\n\\nresult = combinations(5, 3)\\nprint(result)\\n```',\n",
       " 'User: Below is a math problem you are to solve (non-negative integer answer!):\\n\"Jenna is at a fair with four friends. They all want to ride the roller coaster, but only three people can fit in a car. How many different groups of three can the five of them make?\"\\nAnalyze this problem and think step by step to come to a solution with programs. After solving the problem, output the final numerical answer within \\\\boxed{}.\\n\\nThe problem asks for the number of ways to choose 3 people out of 5. This is a combination problem, because the order in which the people are chosen does not matter. The formula for combinations is:\\n\\n\\\\[{n \\\\choose k} = \\\\frac{n!}{k!(n-k)!}\\\\]\\n\\nwhere $n$ is the total number of items, $k$ is the number of items to choose, and $!$ denotes factorial.\\n\\nLet\\'s calculate the number of combinations for this problem using the formula:\\n\\n```python\\nfrom sympy import binomial\\n\\ndef number_of_combinations():\\n    \"\"\"Jenna is at a fair with four friends. They all want to ride the roller coaster, but only three people can fit in a car. How many different groups of three can the five of them make?\"\"\"\\n    total_people = 5\\n    group_size = 3\\n\\n    # Calculate the number of combinations\\n    combinations = binomial(total_people, group_size)\\n\\n    return combinations\\n\\nresult = number_of_combinations()\\nprint(result)\\n```',\n",
       " 'User: Below is a math problem you are to solve (non-negative integer answer!):\\n\"Jenna is at a fair with four friends. They all want to ride the roller coaster, but only three people can fit in a car. How many different groups of three can the five of them make?\"\\nAnalyze this problem and think step by step to come to a solution with programs. After solving the problem, output the final numerical answer within \\\\boxed{}.\\n\\nThis problem is a combination problem in which we are to find the number of ways to choose 3 people out of 5. The number of combinations of n items taken k at a time is given by the formula:\\n\\\\[C(n, k) = \\\\frac{n!}{k!(n-k)!}\\\\]\\nwhere \\'!\\' denotes the factorial function.\\n\\nIn Python, we can calculate this as follows:\\n\\n```python\\nfrom math import factorial\\n\\ndef combinations():\\n    n = 5\\n    k = 3\\n    combinations = factorial(n) / (factorial(k) * factorial(n - k))\\n    return combinations\\n\\nresult = combinations()\\nprint(result)\\n```',\n",
       " 'User: Below is a math problem you are to solve (non-negative integer answer!):\\n\"Jenna is at a fair with four friends. They all want to ride the roller coaster, but only three people can fit in a car. How many different groups of three can the five of them make?\"\\nTo accomplish this, first determine a sympy-based approach for solving the problem by listing each step to take and what functions need to be called in each step. Be clear so even an idiot can follow your instructions, and remember, your final answer should be positive integer, not an algebraic expression!\\nWrite the entire script covering all the steps (use comments and document it well) and print the result. After solving the problem, output the final numerical answer within \\\\boxed{}.\\n\\nApproach:\\nWe are to find the number of ways to choose 3 people out of 5.\\nIn Python, we can use the \"math\" or \"sympy\" libraries to help us calculate this.\\nThe equation to solve is \"5 choose 3\", which can be calculated as $\\\\binom{5}{3}$.\\n\\n```python\\nfrom sympy import binomial\\n\\ndef calculate_combinations():\\n    total_people = 5\\n    group_size = 3\\n\\n    # Calculate the number of combinations\\n    combinations = binomial(total_people, group_size)\\n\\n    return combinations\\n\\nresult = calculate_combinations()\\nprint(result)\\n```',\n",
       " 'User: Below is a math problem you are to solve (non-negative integer answer!):\\n\"Jenna is at a fair with four friends. They all want to ride the roller coaster, but only three people can fit in a car. How many different groups of three can the five of them make?\"\\nTo accomplish this, first determine a sympy-based approach for solving the problem by listing each step to take and what functions need to be called in each step. Be clear so even an idiot can follow your instructions, and remember, your final answer should be positive integer, not an algebraic expression!\\nWrite the entire script covering all the steps (use comments and document it well) and print the result. After solving the problem, output the final numerical answer within \\\\boxed{}.\\n\\nApproach:\\nTo solve this problem, we need to find the number of ways to choose 3 people out of 5. This is a combination problem.\\n\\nThe formula for combinations is $C(n, k) = \\\\frac{n!}{k!(n-k)!}$, where $n$ is the total number of items, $k$ is the number of items to choose, and $!$ denotes factorial.\\n\\nIn our case, $n = 5$ (the total number of friends) and $k = 3$ (the number of friends in each roller coaster car).\\n\\nWe can calculate the combination using the following Python code:\\n\\n```python\\nfrom sympy import factorial\\n\\ndef combination(n, k):\\n    return factorial(n) / (factorial(k) * factorial(n - k))\\n\\nresult = combination(5, 3)\\nprint(result)\\n```',\n",
       " 'User: Below is a math problem you are to solve (non-negative integer answer!):\\n\"Jenna is at a fair with four friends. They all want to ride the roller coaster, but only three people can fit in a car. How many different groups of three can the five of them make?\"\\nTo accomplish this, first determine a sympy-based approach for solving the problem by listing each step to take and what functions need to be called in each step. Be clear so even an idiot can follow your instructions, and remember, your final answer should be positive integer, not an algebraic expression!\\nWrite the entire script covering all the steps (use comments and document it well) and print the result. After solving the problem, output the final numerical answer within \\\\boxed{}.\\n\\nApproach:\\n1. Import the necessary library in Python: import the `math` library for this problem.\\n2. The problem is asking to find the number of ways to choose 3 people out of 5. This can be calculated using the combination formula: `C(n, k) = n! / (k!(n-k)!)`.\\n3. Calculate this using the formula in Python: `C(5, 3) = math.factorial(5) / (math.factorial(3) * math.factorial(5-3))`.\\n4. Print the result.\\n\\n```python\\nimport math\\n\\ndef calculate_combinations():\\n    n = 5\\n    k = 3\\n    # Calculate the combinations using the formula\\n    combinations = math.factorial(n) / (math.factorial(k) * math.factorial(n - k))\\n    return int(combinations)\\n\\nresult = calculate_combinations()\\nprint(result)\\n```',\n",
       " 'User: Below is a math problem you are to solve (non-negative integer answer!):\\n\"Jenna is at a fair with four friends. They all want to ride the roller coaster, but only three people can fit in a car. How many different groups of three can the five of them make?\"\\nTo accomplish this, first determine a sympy-based approach for solving the problem by listing each step to take and what functions need to be called in each step. Be clear so even an idiot can follow your instructions, and remember, your final answer should be positive integer, not an algebraic expression!\\nWrite the entire script covering all the steps (use comments and document it well) and print the result. After solving the problem, output the final numerical answer within \\\\boxed{}.\\n\\nApproach: To solve this problem, we can use the combination function from the sympy library in Python. The combination function calculates the number of ways to choose r items from a set of n items without considering the order of the items.\\n\\nIn this case, we have 5 people (n = 5) and we want to choose 3 of them (r = 3) to ride the roller coaster together. Therefore, we can use the combination function to calculate the number of different groups of three that can be made.\\n\\nThe combination function is defined as:\\n\\n$$C(n, r) = \\\\frac{n!}{r!(n-r)!}$$\\n\\nwhere n! denotes the factorial of n (the product of all positive integers up to n).\\n\\n```python\\nfrom sympy import binomial\\n\\ndef calculate_combinations():\\n    # Calculate the number of ways to choose 3 people out of 5\\n    combinations = binomial(5, 3)\\n    return combinations\\n\\nresult = calculate_combinations()\\nprint(result)\\n```',\n",
       " 'User: Below is a math problem you are to solve (non-negative integer answer!):\\n\"Jenna is at a fair with four friends. They all want to ride the roller coaster, but only three people can fit in a car. How many different groups of three can the five of them make?\"\\nTo accomplish this, first determine a sympy-based approach for solving the problem by listing each step to take and what functions need to be called in each step. Be clear so even an idiot can follow your instructions, and remember, your final answer should be positive integer, not an algebraic expression!\\nWrite the entire script covering all the steps (use comments and document it well) and print the result. After solving the problem, output the final numerical answer within \\\\boxed{}.\\n\\nApproach:\\nTo find the number of different groups of three that can be made from five people, we use the combination formula from combinatorics. The combination formula is:\\n\\n$$C(n, k) = \\\\frac{n!}{k!(n-k)!},$$\\n\\nwhere $n$ is the total number of items, $k$ is the number of items to choose, and $!$ denotes the factorial function.\\n\\nWe need to find the number of combinations of 5 people taken 3 at a time, which is $C(5, 3)$.\\n\\nUsing the combination formula, we get:\\n$$C(5, 3) = \\\\frac{5!}{3!(5-3)!} = \\\\frac{5!}{3!2!} = \\\\frac{5 \\\\times 4 \\\\times 3 \\\\times 2 \\\\times 1}{(3 \\\\times 2 \\\\times 1) \\\\times (2 \\\\times 1)} = \\\\frac{5 \\\\times 4}{2} = 10.$$\\n\\nSo, the five people can be grouped into 10 different ways of three.\\n\\nNow, we can write the Python code to compute this:\\n\\n```python\\nfrom sympy import factorial\\n\\ndef combination(n, k):\\n    return factorial(n) / (factorial(k) * factorial(n - k))\\n\\nnum_people = 5\\ngroup_size = 3\\n\\nnum_combinations = combination(num_people, group_size)\\nprint(int(num_combinations))\\n```',\n",
       " 'User: Below is a math problem you are to solve (non-negative integer answer!):\\n\"Jenna is at a fair with four friends. They all want to ride the roller coaster, but only three people can fit in a car. How many different groups of three can the five of them make?\"\\nTo accomplish this, first determine a sympy-based approach for solving the problem by listing each step to take and what functions need to be called in each step. Be clear so even an idiot can follow your instructions, and remember, your final answer should be positive integer, not an algebraic expression!\\nWrite the entire script covering all the steps (use comments and document it well) and print the result. After solving the problem, output the final numerical answer within \\\\boxed{}.\\n\\nApproach: The problem can be solved using the combination formula from combinatorics, which states that the number of ways to choose $k$ items from a set of $n$ items is $\\\\binom{n}{k} = \\\\frac{n!}{k!(n-k)!}$. In this case, we want to find the number of ways to choose 3 people from a group of 5, so we can use the combination formula with $n = 5$ and $k = 3$.\\n\\n```python\\nfrom sympy import binomial, factorial\\n\\ndef calculate_combinations():\\n    # The number of ways to choose 3 people from a group of 5\\n    combinations = binomial(5, 3)\\n    return combinations\\n\\ncombinations = calculate_combinations()\\nprint(combinations)\\n```']"
      ]
     },
     "execution_count": 58,
     "metadata": {},
     "output_type": "execute_result"
    }
   ],
   "source": [
    "decoded_outputs"
   ]
  },
  {
   "cell_type": "code",
   "execution_count": 60,
   "metadata": {},
   "outputs": [
    {
     "name": "stdout",
     "output_type": "stream",
     "text": [
      "[True, True, True, True, True, True, True, True, True, True, True, True, True, True, True]\n"
     ]
    }
   ],
   "source": [
    "for stop_word in stop_words:\n",
    "    for k in range(15):\n",
    "        stop_word_cond[k] = stop_word_cond[k] or (decoded_outputs[k][-len(stop_word):]==stop_word)\n",
    "        \n",
    "print(stop_word_cond)"
   ]
  },
  {
   "cell_type": "code",
   "execution_count": 61,
   "metadata": {},
   "outputs": [
    {
     "name": "stdout",
     "output_type": "stream",
     "text": [
      "10.0\n",
      "\n",
      "CODE RESULTS 10.0\n",
      "10.0\n",
      "\n",
      "CODE RESULTS 10.0\n",
      "10.0\n",
      "\n",
      "CODE RESULTS 10.0\n",
      "10\n",
      "\n",
      "CODE RESULTS 10\n",
      "10.0\n",
      "\n",
      "CODE RESULTS 10.0\n",
      "10\n",
      "\n",
      "CODE RESULTS 10\n",
      "10.0\n",
      "\n",
      "CODE RESULTS 10.0\n",
      "10\n",
      "\n",
      "CODE RESULTS 10\n",
      "10\n",
      "\n",
      "CODE RESULTS 10\n",
      "10\n",
      "\n",
      "CODE RESULTS 10\n",
      "10\n",
      "\n",
      "CODE RESULTS 10\n",
      "10\n",
      "\n",
      "CODE RESULTS 10\n",
      "10\n",
      "\n",
      "CODE RESULTS 10\n"
     ]
    }
   ],
   "source": [
    "for k in range(13): \n",
    "    \n",
    "    if not stop_word_cond[k]:\n",
    "        continue\n",
    "                   \n",
    "    if (decoded_outputs[k][-len(\"```python\"):]==\"```python\"):\n",
    "        temperature_inner=temperature_coding\n",
    "        top_p_inner = top_p_coding\n",
    "        new_prompts[k] = decoded_outputs[k]\n",
    "    else:\n",
    "        temperature_inner=temperature\n",
    "        top_p_inner = top_p\n",
    "        try:\n",
    "            if (decoded_outputs[k][-len(\"``````output\"):]==\"``````output\"):\n",
    "                code_text = decoded_outputs[k].split('```python')[-1].split(\"``````\")[0]\n",
    "            else:\n",
    "                code_text = decoded_outputs[k].split('```python')[-1].split(\"```\")[0]\n",
    "            \n",
    "            code_output, CODE_STATUS = process_code(code_text, return_shell_output=True)\n",
    "            print('CODE RESULTS', code_output)\n",
    "            \n",
    "            if not CODE_STATUS:\n",
    "                continue\n",
    "                \n",
    "        except Exception as e:\n",
    "            print(e)\n",
    "            print('ERROR PARSING CODE')\n",
    "            code_output = -1\n",
    "            \n",
    "        if code_output!=-1:\n",
    "            if (decoded_outputs[k][-len(\")\\n```\"):]==\")\\n```\"):\n",
    "                new_prompts[k] = decoded_outputs[k]+'```output\\n'+str(code_output)+'\\n```\\n'\n",
    "            else:\n",
    "                new_prompts[k] = decoded_outputs[k]+'\\n'+str(code_output)+'\\n```\\n'\n",
    "\n",
    "        else:\n",
    "            continue\n",
    "        \n",
    "        code_outputs[k] = code_output"
   ]
  },
  {
   "cell_type": "code",
   "execution_count": 62,
   "metadata": {},
   "outputs": [
    {
     "data": {
      "text/plain": [
       "['10.0',\n",
       " '10.0',\n",
       " '10.0',\n",
       " '10',\n",
       " '10.0',\n",
       " '10',\n",
       " '10.0',\n",
       " '10',\n",
       " '10',\n",
       " '10',\n",
       " '10',\n",
       " '10',\n",
       " '10',\n",
       " -1,\n",
       " -1]"
      ]
     },
     "execution_count": 62,
     "metadata": {},
     "output_type": "execute_result"
    }
   ],
   "source": [
    "code_outputs"
   ]
  },
  {
   "cell_type": "code",
   "execution_count": null,
   "metadata": {},
   "outputs": [],
   "source": [
    "for i, (test, sample_submission) in tqdm(enumerate(iter_test)):\n",
    "    print(f\"Solving problem {i} ...\")\n",
    "    TIME_SPENT = time.time() - NOTEBOOK_START_TIME\n",
    "\n",
    "    if TIME_SPENT>TIME_LIMIT:\n",
    "        sample_submission['answer'] = 0\n",
    "        env.predict(sample_submission)\n",
    "        break\n",
    "    \n",
    "    Q_START_TIME = time.time()\n",
    "    \n",
    "    problem = test['problem'].values[0]\n",
    "    \n",
    "    for jj in range(3):\n",
    "        print(f\"\\n\\n\\nQUESTION {i} - {jj} - TIME_SPENT : {TIME_SPENT:.0f} secs\")\n",
    "        \n",
    "        best, best_count = best_stats.get(i,(-1,-1))\n",
    "        if best_count>BEST_COUNT_THRESHOLD:      # jj instead of n_repetitions\n",
    "            print(\"SKIPPING CAUSE FOUND BEST\")\n",
    "            break\n",
    "        \n",
    "        time_now = time.time()\n",
    "        \n",
    "        if (time_now - Q_START_TIME) > PER_Q_TIME_LIMIT or (time_now - NOTEBOOK_START_TIME)>TIME_LIMIT-200:\n",
    "            print(f'BREAKING BECAUSE QUESTION TIME LIMIT EXCEEDED')\n",
    "            break\n",
    "        \n",
    "        outputs = total_outputs.get(i,[])\n",
    "        text_answers, code_answers = question_type_counts.get(i,starting_counts)\n",
    "        results = total_results.get(i,[])\n",
    "        answers = total_answers.get(i,[])\n",
    "\n",
    "        try:\n",
    "            #initail_message = problem  + tool_instruction \n",
    "           \n",
    "            cot_prompt = f\"User: {cot.format(problem, '{}')}\"\n",
    "            code_prompt = f\"User: {code.format(problem, '{}')}\"\n",
    "            \n",
    "            prompts = [cot_prompt] * 9 + [code_prompt] * 6\n",
    "            current_printed = list(map(len, prompts))\n",
    "\n",
    "            input_len2 = deepcopy(current_printed)\n",
    "\n",
    "            generation_outputs = llm.generate(prompts, SamplingParams(\n",
    "                stop=stop_words, temperature=temperature, max_tokens=TOTAL_TOKENS, top_p=top_p, \n",
    "                include_stop_str_in_output=True))\n",
    "            \n",
    "            decoded_outputs = [prompt + output.outputs[0].text for prompt, output in zip(prompts, generation_outputs)]\n",
    "    \n",
    "            for k in range(15):\n",
    "                print(f\"\\n\\nOutput {k}:\\n{decoded_output[k][current_printed:]}\\n\")\n",
    "                current_printed[k] += len(decoded_output[k][current_printed[k]:])           \n",
    "            \n",
    "            stop_word_cond = [False] * 15\n",
    "            for stop_word in stop_words:\n",
    "                for k in range(15):\n",
    "                    stop_word_cond[k] = stop_word_cond[k] or (decoded_output[k][-len(stop_word):]==stop_word)\n",
    "                    \n",
    "            print(stop_word_cond)\n",
    "            \n",
    "            while any(stop_word_cond):\n",
    "                new_prompt = [\"\"] * 15\n",
    "                \n",
    "                for k in range(15):                \n",
    "                    if (decoded_output[k][-len(\"```python\"):]==\"```python\"):\n",
    "                        temperature_inner=temperature_coding\n",
    "                        top_p_inner = top_p_coding\n",
    "                        new_prompt[k] = decoded_output[k]\n",
    "                    else:\n",
    "                        temperature_inner=temperature\n",
    "                        top_p_inner = top_p\n",
    "                        try:\n",
    "                            if (decoded_output[k][-len(\"``````output\"):]==\"``````output\"):\n",
    "                                code_text = decoded_output[k].split('```python')[-1].split(\"``````\")[0]\n",
    "                            else:\n",
    "                                code_text = decoded_output[k].split('```python')[-1].split(\"```\")[0]\n",
    "                            \n",
    "                            code_output, CODE_STATUS = process_code(code_text, return_shell_output=True)\n",
    "                            print('CODE RESULTS', code_output)\n",
    "                            \n",
    "                            if not CODE_STATUS:\n",
    "                                continue\n",
    "                                \n",
    "                        except Exception as e:\n",
    "                            print(e)\n",
    "                            print('ERROR PARSING CODE')\n",
    "                            code_output = -1\n",
    "                            \n",
    "                        if code_output!=-1:\n",
    "                            if (decoded_output[k][-len(\")\\n```\"):]==\")\\n```\"):\n",
    "                                new_prompt[k] = decoded_output[k]+'```output\\n'+str(code_output)+'\\n```\\n'\n",
    "                            else:\n",
    "                                new_prompt[k] = decoded_output[k]+'\\n'+str(code_output)+'\\n```\\n'\n",
    "\n",
    "                        else:\n",
    "                            continue\n",
    "\n",
    "\n",
    "                generation_output = llm.generate(new_prompt, SamplingParams(\n",
    "                    stop=stop_words, temperature=temperature_inner, max_tokens=TOTAL_TOKENS, top_p=top_p_inner,\n",
    "                    include_stop_str_in_output=True))\n",
    "                \n",
    "                generation_output = list(map(lambda x: x.outputs[0].text, generation_output))\n",
    "                \n",
    "                decoded_output = list(map(lambda p, o: p + o, zip(new_prompt, generation_output)))\n",
    "\n",
    "                result_output = []\n",
    "                code_output = []\n",
    "                \n",
    "                for k in range(15):\n",
    "                    print(f\"\\nINTERMEDIATE OUT {k}:\\n{decoded_output[k][current_printed:]}\\n\")\n",
    "                    current_printed[k]+=len(decoded_output[k][current_printed[k]:])\n",
    "\n",
    "            \n",
    "                    raw_output = decoded_output[k][input_len2[k]:]\n",
    "            \n",
    "                    #print(f\"\\n\\nOutput :\\n{raw_output}\\n\")                            \n",
    "                    result_output.append(process_text_output(raw_output))\n",
    "            \n",
    "                    try:\n",
    "                        code_output[k] = round(float(eval(code_output[k]))) % 1000\n",
    "                        \n",
    "                    except Exception as e:\n",
    "                        print(e,'final_eval')\n",
    "                        code_output = -1\n",
    "                        \n",
    "\n",
    "        except Exception as e:\n",
    "            print(e,\"5\")\n",
    "            result_output, code_output = -1, -1\n",
    "\n",
    "        if code_output!=-1:\n",
    "            outputs.append(code_output)\n",
    "            code_answers+=1\n",
    "\n",
    "        if result_output!=-1:\n",
    "            outputs.append(result_output)\n",
    "            text_answers+=1\n",
    "\n",
    "        if len(outputs) > 0:\n",
    "            occurances = Counter(outputs).most_common()\n",
    "            print(occurances)\n",
    "            if occurances[0][1] > best_count:\n",
    "                print(\"GOOD ANSWER UPDATED!\")\n",
    "                best = occurances[0][0]\n",
    "                best_count = occurances[0][1]\n",
    "            if occurances[0][1] > BEST_COUNT_THRESHOLD:\n",
    "                print(\"ANSWER FOUND!\")\n",
    "                break\n",
    "\n",
    "        results.append(result_output)\n",
    "        answers.append(code_output)\n",
    "        \n",
    "        best_stats[i] = (best, best_count) \n",
    "        question_type_counts[i] = (text_answers, code_answers)\n",
    "        total_outputs[i] = outputs\n",
    "        \n",
    "        total_results[i] = results\n",
    "        total_answers[i] = answers\n",
    "\n",
    "        print(\"code_answers\",code_answers-starting_counts[1],\"text_answers\",text_answers-starting_counts[0])\n",
    "        if DEBUG:\n",
    "            break\n",
    "            \n",
    "    print(f\"Predicted best answer: {best_stats}\")\n",
    "    sample_submission['answer'] = best_stats[i][0]\n",
    "    env.predict(sample_submission)\n",
    "    \n",
    "    print('-' * 80)\n",
    "    print(f'Time spent on the question: {time.time() - Q_START_TIME:.0f} secs')\n",
    "    print('-' * 80)"
   ]
  },
  {
   "cell_type": "code",
   "execution_count": null,
   "metadata": {
    "execution": {
     "iopub.execute_input": "2024-06-04T10:11:52.999318Z",
     "iopub.status.busy": "2024-06-04T10:11:52.999122Z",
     "iopub.status.idle": "2024-06-04T10:11:53.008732Z",
     "shell.execute_reply": "2024-06-04T10:11:53.008300Z"
    }
   },
   "outputs": [],
   "source": [
    "if not PRIVATE:\n",
    "    display(env.df)\n",
    "    print(f\"\\ncorrect: {(env.df['ground_truth'] == env.df['answer']).sum()} out of {len(env.df)}\")"
   ]
  },
  {
   "cell_type": "code",
   "execution_count": null,
   "metadata": {
    "execution": {
     "iopub.execute_input": "2024-06-04T10:11:53.010970Z",
     "iopub.status.busy": "2024-06-04T10:11:53.010703Z",
     "iopub.status.idle": "2024-06-04T10:11:53.041989Z",
     "shell.execute_reply": "2024-06-04T10:11:53.041562Z"
    }
   },
   "outputs": [],
   "source": [
    "with open('code.py', 'w') as fout:\n",
    "    fout.write(\"print('done')\")\n",
    "\n",
    "batcmd = 'timeout 5 ' + sys.executable + ' code.py'\n",
    "try:\n",
    "    shell_output = subprocess.check_output(batcmd, shell=True).decode('utf8')\n",
    "    print(shell_output)\n",
    "except:\n",
    "    pass"
   ]
  },
  {
   "cell_type": "code",
   "execution_count": null,
   "metadata": {},
   "outputs": [],
   "source": [
    "time.time() - NOTEBOOK_START_TIME"
   ]
  }
 ],
 "metadata": {
  "kaggle": {
   "accelerator": "nvidiaTeslaT4",
   "dataSources": [
    {
     "databundleVersionId": 8365361,
     "sourceId": 73231,
     "sourceType": "competition"
    },
    {
     "datasetId": 4720595,
     "sourceId": 8012825,
     "sourceType": "datasetVersion"
    },
    {
     "datasetId": 4728129,
     "sourceId": 8023365,
     "sourceType": "datasetVersion"
    },
    {
     "datasetId": 4871830,
     "sourceId": 8218776,
     "sourceType": "datasetVersion"
    },
    {
     "datasetId": 4746046,
     "sourceId": 8300737,
     "sourceType": "datasetVersion"
    },
    {
     "datasetId": 5076335,
     "sourceId": 8505009,
     "sourceType": "datasetVersion"
    }
   ],
   "dockerImageVersionId": 30699,
   "isGpuEnabled": true,
   "isInternetEnabled": false,
   "language": "python",
   "sourceType": "notebook"
  },
  "kernelspec": {
   "display_name": "Python 3",
   "language": "python",
   "name": "python3"
  },
  "language_info": {
   "codemirror_mode": {
    "name": "ipython",
    "version": 3
   },
   "file_extension": ".py",
   "mimetype": "text/x-python",
   "name": "python",
   "nbconvert_exporter": "python",
   "pygments_lexer": "ipython3",
   "version": "3.10.14"
  },
  "papermill": {
   "default_parameters": {},
   "duration": 724.728315,
   "end_time": "2024-02-29T09:37:08.760349",
   "environment_variables": {},
   "exception": null,
   "input_path": "__notebook__.ipynb",
   "output_path": "__notebook__.ipynb",
   "parameters": {},
   "start_time": "2024-02-29T09:25:04.032034",
   "version": "2.5.0"
  },
  "widgets": {
   "application/vnd.jupyter.widget-state+json": {
    "state": {
     "21267b653022419eb6fc3f47aa4db8ed": {
      "model_module": "@jupyter-widgets/controls",
      "model_module_version": "1.5.0",
      "model_name": "HTMLModel",
      "state": {
       "_dom_classes": [],
       "_model_module": "@jupyter-widgets/controls",
       "_model_module_version": "1.5.0",
       "_model_name": "HTMLModel",
       "_view_count": null,
       "_view_module": "@jupyter-widgets/controls",
       "_view_module_version": "1.5.0",
       "_view_name": "HTMLView",
       "description": "",
       "description_tooltip": null,
       "layout": "IPY_MODEL_926e7ccdad6440be85c76931860b744c",
       "placeholder": "​",
       "style": "IPY_MODEL_feef8334edb24f6da22e8bb1d8d80c67",
       "value": "Loading checkpoint shards: 100%"
      }
     },
     "2144e851698b4707ad1c7fc29fe21b03": {
      "model_module": "@jupyter-widgets/base",
      "model_module_version": "1.2.0",
      "model_name": "LayoutModel",
      "state": {
       "_model_module": "@jupyter-widgets/base",
       "_model_module_version": "1.2.0",
       "_model_name": "LayoutModel",
       "_view_count": null,
       "_view_module": "@jupyter-widgets/base",
       "_view_module_version": "1.2.0",
       "_view_name": "LayoutView",
       "align_content": null,
       "align_items": null,
       "align_self": null,
       "border": null,
       "bottom": null,
       "display": null,
       "flex": null,
       "flex_flow": null,
       "grid_area": null,
       "grid_auto_columns": null,
       "grid_auto_flow": null,
       "grid_auto_rows": null,
       "grid_column": null,
       "grid_gap": null,
       "grid_row": null,
       "grid_template_areas": null,
       "grid_template_columns": null,
       "grid_template_rows": null,
       "height": null,
       "justify_content": null,
       "justify_items": null,
       "left": null,
       "margin": null,
       "max_height": null,
       "max_width": null,
       "min_height": null,
       "min_width": null,
       "object_fit": null,
       "object_position": null,
       "order": null,
       "overflow": null,
       "overflow_x": null,
       "overflow_y": null,
       "padding": null,
       "right": null,
       "top": null,
       "visibility": null,
       "width": null
      }
     },
     "3963993becfa487c9ff725f211915e67": {
      "model_module": "@jupyter-widgets/controls",
      "model_module_version": "1.5.0",
      "model_name": "HTMLModel",
      "state": {
       "_dom_classes": [],
       "_model_module": "@jupyter-widgets/controls",
       "_model_module_version": "1.5.0",
       "_model_name": "HTMLModel",
       "_view_count": null,
       "_view_module": "@jupyter-widgets/controls",
       "_view_module_version": "1.5.0",
       "_view_name": "HTMLView",
       "description": "",
       "description_tooltip": null,
       "layout": "IPY_MODEL_f7a725e1b0cc4ad78a62beab5f663065",
       "placeholder": "​",
       "style": "IPY_MODEL_fdb32baaed7145d8a8024b615ef242ca",
       "value": " 19/19 [10:48&lt;00:00, 33.24s/it]"
      }
     },
     "5882b6e860be4a0db012a64fc0704a3f": {
      "model_module": "@jupyter-widgets/controls",
      "model_module_version": "1.5.0",
      "model_name": "HBoxModel",
      "state": {
       "_dom_classes": [],
       "_model_module": "@jupyter-widgets/controls",
       "_model_module_version": "1.5.0",
       "_model_name": "HBoxModel",
       "_view_count": null,
       "_view_module": "@jupyter-widgets/controls",
       "_view_module_version": "1.5.0",
       "_view_name": "HBoxView",
       "box_style": "",
       "children": [
        "IPY_MODEL_21267b653022419eb6fc3f47aa4db8ed",
        "IPY_MODEL_d91eb83d016a4381828192a98f798f9b",
        "IPY_MODEL_3963993becfa487c9ff725f211915e67"
       ],
       "layout": "IPY_MODEL_6a892a5561f742bb9db9f13859c18e90"
      }
     },
     "6a892a5561f742bb9db9f13859c18e90": {
      "model_module": "@jupyter-widgets/base",
      "model_module_version": "1.2.0",
      "model_name": "LayoutModel",
      "state": {
       "_model_module": "@jupyter-widgets/base",
       "_model_module_version": "1.2.0",
       "_model_name": "LayoutModel",
       "_view_count": null,
       "_view_module": "@jupyter-widgets/base",
       "_view_module_version": "1.2.0",
       "_view_name": "LayoutView",
       "align_content": null,
       "align_items": null,
       "align_self": null,
       "border": null,
       "bottom": null,
       "display": null,
       "flex": null,
       "flex_flow": null,
       "grid_area": null,
       "grid_auto_columns": null,
       "grid_auto_flow": null,
       "grid_auto_rows": null,
       "grid_column": null,
       "grid_gap": null,
       "grid_row": null,
       "grid_template_areas": null,
       "grid_template_columns": null,
       "grid_template_rows": null,
       "height": null,
       "justify_content": null,
       "justify_items": null,
       "left": null,
       "margin": null,
       "max_height": null,
       "max_width": null,
       "min_height": null,
       "min_width": null,
       "object_fit": null,
       "object_position": null,
       "order": null,
       "overflow": null,
       "overflow_x": null,
       "overflow_y": null,
       "padding": null,
       "right": null,
       "top": null,
       "visibility": null,
       "width": null
      }
     },
     "926e7ccdad6440be85c76931860b744c": {
      "model_module": "@jupyter-widgets/base",
      "model_module_version": "1.2.0",
      "model_name": "LayoutModel",
      "state": {
       "_model_module": "@jupyter-widgets/base",
       "_model_module_version": "1.2.0",
       "_model_name": "LayoutModel",
       "_view_count": null,
       "_view_module": "@jupyter-widgets/base",
       "_view_module_version": "1.2.0",
       "_view_name": "LayoutView",
       "align_content": null,
       "align_items": null,
       "align_self": null,
       "border": null,
       "bottom": null,
       "display": null,
       "flex": null,
       "flex_flow": null,
       "grid_area": null,
       "grid_auto_columns": null,
       "grid_auto_flow": null,
       "grid_auto_rows": null,
       "grid_column": null,
       "grid_gap": null,
       "grid_row": null,
       "grid_template_areas": null,
       "grid_template_columns": null,
       "grid_template_rows": null,
       "height": null,
       "justify_content": null,
       "justify_items": null,
       "left": null,
       "margin": null,
       "max_height": null,
       "max_width": null,
       "min_height": null,
       "min_width": null,
       "object_fit": null,
       "object_position": null,
       "order": null,
       "overflow": null,
       "overflow_x": null,
       "overflow_y": null,
       "padding": null,
       "right": null,
       "top": null,
       "visibility": null,
       "width": null
      }
     },
     "d91eb83d016a4381828192a98f798f9b": {
      "model_module": "@jupyter-widgets/controls",
      "model_module_version": "1.5.0",
      "model_name": "FloatProgressModel",
      "state": {
       "_dom_classes": [],
       "_model_module": "@jupyter-widgets/controls",
       "_model_module_version": "1.5.0",
       "_model_name": "FloatProgressModel",
       "_view_count": null,
       "_view_module": "@jupyter-widgets/controls",
       "_view_module_version": "1.5.0",
       "_view_name": "ProgressView",
       "bar_style": "success",
       "description": "",
       "description_tooltip": null,
       "layout": "IPY_MODEL_2144e851698b4707ad1c7fc29fe21b03",
       "max": 19,
       "min": 0,
       "orientation": "horizontal",
       "style": "IPY_MODEL_e0693b32889c42b18b9a3844e045d048",
       "value": 19
      }
     },
     "e0693b32889c42b18b9a3844e045d048": {
      "model_module": "@jupyter-widgets/controls",
      "model_module_version": "1.5.0",
      "model_name": "ProgressStyleModel",
      "state": {
       "_model_module": "@jupyter-widgets/controls",
       "_model_module_version": "1.5.0",
       "_model_name": "ProgressStyleModel",
       "_view_count": null,
       "_view_module": "@jupyter-widgets/base",
       "_view_module_version": "1.2.0",
       "_view_name": "StyleView",
       "bar_color": null,
       "description_width": ""
      }
     },
     "f7a725e1b0cc4ad78a62beab5f663065": {
      "model_module": "@jupyter-widgets/base",
      "model_module_version": "1.2.0",
      "model_name": "LayoutModel",
      "state": {
       "_model_module": "@jupyter-widgets/base",
       "_model_module_version": "1.2.0",
       "_model_name": "LayoutModel",
       "_view_count": null,
       "_view_module": "@jupyter-widgets/base",
       "_view_module_version": "1.2.0",
       "_view_name": "LayoutView",
       "align_content": null,
       "align_items": null,
       "align_self": null,
       "border": null,
       "bottom": null,
       "display": null,
       "flex": null,
       "flex_flow": null,
       "grid_area": null,
       "grid_auto_columns": null,
       "grid_auto_flow": null,
       "grid_auto_rows": null,
       "grid_column": null,
       "grid_gap": null,
       "grid_row": null,
       "grid_template_areas": null,
       "grid_template_columns": null,
       "grid_template_rows": null,
       "height": null,
       "justify_content": null,
       "justify_items": null,
       "left": null,
       "margin": null,
       "max_height": null,
       "max_width": null,
       "min_height": null,
       "min_width": null,
       "object_fit": null,
       "object_position": null,
       "order": null,
       "overflow": null,
       "overflow_x": null,
       "overflow_y": null,
       "padding": null,
       "right": null,
       "top": null,
       "visibility": null,
       "width": null
      }
     },
     "fdb32baaed7145d8a8024b615ef242ca": {
      "model_module": "@jupyter-widgets/controls",
      "model_module_version": "1.5.0",
      "model_name": "DescriptionStyleModel",
      "state": {
       "_model_module": "@jupyter-widgets/controls",
       "_model_module_version": "1.5.0",
       "_model_name": "DescriptionStyleModel",
       "_view_count": null,
       "_view_module": "@jupyter-widgets/base",
       "_view_module_version": "1.2.0",
       "_view_name": "StyleView",
       "description_width": ""
      }
     },
     "feef8334edb24f6da22e8bb1d8d80c67": {
      "model_module": "@jupyter-widgets/controls",
      "model_module_version": "1.5.0",
      "model_name": "DescriptionStyleModel",
      "state": {
       "_model_module": "@jupyter-widgets/controls",
       "_model_module_version": "1.5.0",
       "_model_name": "DescriptionStyleModel",
       "_view_count": null,
       "_view_module": "@jupyter-widgets/base",
       "_view_module_version": "1.2.0",
       "_view_name": "StyleView",
       "description_width": ""
      }
     }
    },
    "version_major": 2,
    "version_minor": 0
   }
  }
 },
 "nbformat": 4,
 "nbformat_minor": 4
}
